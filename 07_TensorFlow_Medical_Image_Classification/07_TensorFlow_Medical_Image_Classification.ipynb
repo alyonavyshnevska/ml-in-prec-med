{
 "cells": [
  {
   "cell_type": "markdown",
   "metadata": {},
   "source": [
    "# Tutorial 7: Tensorflow and neural networks\n",
    "\n",
    "Welcome to the seventh tutorial of the course 'Machine learning for Precision Medicine'.\n",
    "\n",
    "In this exercise we will look at a subset the skin MNIST dataset from [kaggle](https://www.kaggle.com/kmader/skin-cancer-mnist-ham10000). \n",
    "\n",
    "The original datasets includes more than 10,015 images of pigmented lesions with the diagnostic categories: \n",
    "- Actinic keratoses and intraepithelial carcinoma / Bowen's disease (akiec)\n",
    "- basal cell carcinoma (bcc) \n",
    "- benign keratosis-like lesions (solar lentigines / seborrheic keratoses and lichen-planus like keratoses, bkl)\n",
    "- dermatofibroma (df) \n",
    "- melanoma (mel)\n",
    "- melanocytic nevi (nv) and vascular lesions (angiomas, angiokeratomas, pyogenic granulomas and hemorrhage, vasc)"
   ]
  },
  {
   "cell_type": "code",
   "execution_count": 1,
   "metadata": {},
   "outputs": [
    {
     "name": "stdout",
     "output_type": "stream",
     "text": [
      "Tensor Flow version: 1.13.1\n"
     ]
    }
   ],
   "source": [
    "import pandas as pd\n",
    "import numpy as np\n",
    "import os\n",
    "from glob import glob\n",
    "\n",
    "%matplotlib inline\n",
    "import matplotlib.pyplot as plt\n",
    "\n",
    "from PIL import Image\n",
    "np.random.seed(123)\n",
    "\n",
    "import itertools\n",
    "from helper_functions import random_mini_batches\n",
    "\n",
    "import tensorflow as tf\n",
    "from tensorflow.python.framework import ops\n",
    "from tensorflow.python.client import device_lib\n",
    "# print(device_lib.list_local_devices())\n",
    "print(f'Tensor Flow version: {tf.VERSION}')"
   ]
  },
  {
   "cell_type": "markdown",
   "metadata": {},
   "source": [
    "## Data preprocessing\n",
    "\n",
    "load_data() from helper_functions:   \n",
    "- Subset of images  \n",
    "- Subset of features: basal cell carcinoma, melanoma and melanocytic-nevi  "
   ]
  },
  {
   "cell_type": "code",
   "execution_count": 2,
   "metadata": {},
   "outputs": [],
   "source": [
    "from IPython.display import display, Image\n",
    "# Caution: sensative imaging data\n",
    "# display(Image(filename='./image_samples.png'))"
   ]
  },
  {
   "cell_type": "markdown",
   "metadata": {},
   "source": [
    "The original image size was (75, 100, 3). The '3' as the last number of the shape, indicates that we are dealing with RGB-images here. 3 for the 3 color channels red, green and blue. Then we reduced the image resolution to 28x28 pixels (resulting in a shape of (28,28,3)), so that we can easily pass it into our model later. \n",
    "\n",
    "To make it easier to load the data: numpy-vectors X_train, X_test, y_train, y_test.   \n",
    "I.e. X_train contains the flattened image vectors of all training images. When you flatten the dimensions (28,28,3) of an image, then you get a flat vector of 2352 from 28\\*28\\*3. The X_train vector containes these flattened image-vectors stacked from all images. Same procedure was applied for the test vector."
   ]
  },
  {
   "cell_type": "code",
   "execution_count": 3,
   "metadata": {},
   "outputs": [
    {
     "name": "stdout",
     "output_type": "stream",
     "text": [
      "number of training samples:  5832\n",
      "Shape of X_train (5832, 2352)\n",
      "number of test samples:  2500\n",
      "Shape of X_test (2500, 2352)\n",
      "Shape of y_train (5832, 3)\n",
      "Shape of y_test (2500, 3)\n"
     ]
    }
   ],
   "source": [
    "X_train = np.load('./X_train.npy')\n",
    "print('number of training samples: ', len(X_train))\n",
    "print('Shape of X_train', X_train.shape)\n",
    "\n",
    "X_test = np.load('./X_test.npy')\n",
    "print('number of test samples: ', len(X_test))\n",
    "print('Shape of X_test', X_test.shape)\n",
    "\n",
    "y_train = np.load('./y_train.npy')\n",
    "print('Shape of y_train', y_train.shape)\n",
    "\n",
    "y_test = np.load('./y_test.npy')\n",
    "print('Shape of y_test', y_test.shape)"
   ]
  },
  {
   "cell_type": "markdown",
   "metadata": {},
   "source": [
    "We have to transform the vectors for later"
   ]
  },
  {
   "cell_type": "code",
   "execution_count": 4,
   "metadata": {},
   "outputs": [
    {
     "name": "stdout",
     "output_type": "stream",
     "text": [
      "Shape of X_train (2352, 5832)\n",
      "Shape of X_test (2352, 2500)\n",
      "Shape of y_train (3, 5832)\n",
      "Shape of y_test (3, 2500)\n"
     ]
    }
   ],
   "source": [
    "X_train = X_train.T\n",
    "print('Shape of X_train', X_train.shape)\n",
    "\n",
    "X_test = X_test.T\n",
    "print('Shape of X_test', X_test.shape)\n",
    "\n",
    "y_train = y_train.T\n",
    "print('Shape of y_train', y_train.shape)\n",
    "\n",
    "y_test = y_test.T\n",
    "print('Shape of y_test', y_test.shape)"
   ]
  },
  {
   "cell_type": "markdown",
   "metadata": {},
   "source": [
    "Below mentioned image shows how the downsampled image looks like. For plotting, we have to transform the flattened shape back into its pixel and channel shape, as required by the imshow function.   \n",
    "Change the number to see different samples."
   ]
  },
  {
   "cell_type": "code",
   "execution_count": 5,
   "metadata": {},
   "outputs": [
    {
     "data": {
      "text/plain": [
       "<matplotlib.image.AxesImage at 0x1a37f020b8>"
      ]
     },
     "execution_count": 5,
     "metadata": {},
     "output_type": "execute_result"
    },
    {
     "data": {
      "image/png": "[encoded data removed]",
      "text/plain": [
       "<Figure size 432x288 with 1 Axes>"
      ]
     },
     "metadata": {
      "needs_background": "dark"
     },
     "output_type": "display_data"
    }
   ],
   "source": [
    "x = X_train[:,1040].reshape(28,28,3)\n",
    "plt.imshow(x)"
   ]
  },
  {
   "cell_type": "markdown",
   "metadata": {},
   "source": [
    "# Introduction to Tensorflow"
   ]
  },
  {
   "cell_type": "markdown",
   "metadata": {},
   "source": [
    "This week's Exercise will give you an introduction to the most popular deep-learning framework [Tensorflow](https://www.tensorflow.org/]), which is developed and maintained by Google.\n",
    "\n",
    "We will first go over the concepts behind Tensorflow, in particular **Tensors** (variables, constants and placeholders), **initialization**, and building a **computational graph**, which we execute inside a tensorflow session.\n",
    "\n",
    "Afterwards we implement a simple fully connected network \"from scratch\" to perform an image classification tasks with a subset of the [skin-cancer MNIST](https://www.kaggle.com/kmader/skin-cancer-mnist-ham10000) data.\n"
   ]
  },
  {
   "cell_type": "markdown",
   "metadata": {},
   "source": [
    "## Tensors and Programming in Tensorflow\n",
    "\n",
    "Taken from the Tensoflow [documentation](https://www.tensorflow.org/guide/tensors):\n",
    "\n",
    "*&nbsp;&nbsp;&nbsp;&nbsp;&nbsp;&nbsp;TensorFlow, as the name indicates, is a framework to define and run computations involving tensors. A tensor is a generalization of vectors and matrices to potentially higher dimensions. Internally, TensorFlow represents tensors as n-dimensional arrays of base datatypes.*\n",
    "\n",
    "*&nbsp;&nbsp;&nbsp;&nbsp;&nbsp;&nbsp; When writing a TensorFlow program, the main object you manipulate and pass around is the **tf.Tensor**. A tf.Tensor object represents a partially defined computation that will eventually produce a value. TensorFlow programs work by first building a graph of tf.Tensor objects, detailing how each tensor is computed based on the other available tensors and then by running parts of this graph to achieve the desired results.*\n",
    "\n",
    "Writing and running programs in Tensorflow requires the following steps:\n",
    "\n",
    "1. Define a set of Tensors (variables, constants or placeholders)\n",
    "2. Write operations among those Tensors (which will produce other Tensors)\n",
    "3. Initialize the Tensors you defined in step 1.\n",
    "4. Create a Session\n",
    "5. Run the Session. This will run the operations you defined in step 2.\n",
    "\n",
    "Programming this way in Tensorflow can feel a bit verbose and abstract. For this reason a lot of effort is being made in order to make Tensorflow easier to work with, especially for beginners (see the  [Tensorflow 2.0 alpha](https://www.tensorflow.org/alpha)). We will discuss some of these changes and higher level frameworks like [Keras](https://keras.io/) in later exercises. However, this exercise will be performed in the \"classical\" Tensorflow way following the steps above using as little abstraction as possible.\n",
    "\n",
    "Perform all of the steps mentioned above:"
   ]
  },
  {
   "cell_type": "code",
   "execution_count": 6,
   "metadata": {},
   "outputs": [
    {
     "name": "stdout",
     "output_type": "stream",
     "text": [
      "Tensor(\"Mul_1:0\", dtype=float32)\n"
     ]
    }
   ],
   "source": [
    "# defining tensors a and b (step 1)\n",
    "a = tf.constant(2.)\n",
    "b = tf.constant(5.)\n",
    "\n",
    "x = tf.placeholder(tf.float32, name='x')\n",
    "\n",
    "# defining operations between them (step 2)\n",
    "c = tf.multiply(a,x)\n",
    "d = tf.multiply(b,c)\n",
    "\n",
    "assert str(d) == 'Tensor(\"Mul_1:0\", dtype=float32)', \"output does not match\"\n",
    "print(d)"
   ]
  },
  {
   "cell_type": "markdown",
   "metadata": {},
   "source": [
    "**Expected output:**\n",
    "    Tensor(\"Mul_1:0\", dtype=float32)\n"
   ]
  },
  {
   "cell_type": "markdown",
   "metadata": {},
   "source": [
    "When we print `d`, we simply get the non-evaluated Tensor object. This is because we only defined a **computational graph**, but we did not execute it.\n",
    "\n",
    "In order to run the computations in our graph, we have to create a `tf.Session` and run it:"
   ]
  },
  {
   "cell_type": "code",
   "execution_count": 7,
   "metadata": {},
   "outputs": [
    {
     "name": "stdout",
     "output_type": "stream",
     "text": [
      "10.0\n"
     ]
    }
   ],
   "source": [
    "# we skip initialization (step 3), as we do not need to initialize constants...\n",
    "# we start a tf.Session (step 4)\n",
    "with tf.Session() as sess:\n",
    "    # we run the session to produce 'd' (step 5)\n",
    "    output = sess.run(d, feed_dict={x: 1.})\n",
    "    assert int(output) == 10, \"output does not match\"\n",
    "    print(output)"
   ]
  },
  {
   "cell_type": "markdown",
   "metadata": {},
   "source": [
    "**Expected output:**\n",
    "    10.0"
   ]
  },
  {
   "cell_type": "markdown",
   "metadata": {},
   "source": [
    "This gives the desired result for `x = 1.`. Note that we used `feed_dict` in order to pass the value for `x`, which we defined to be a placeholder. A placeholder is a Tensor for which we will *feed* a value when we run the session. We can feed in different values for `x` this way:"
   ]
  },
  {
   "cell_type": "code",
   "execution_count": 8,
   "metadata": {},
   "outputs": [
    {
     "name": "stdout",
     "output_type": "stream",
     "text": [
      "20.0\n"
     ]
    }
   ],
   "source": [
    "with tf.Session() as sess:\n",
    "    # we feed x = 2. instead of x = 1.\n",
    "    output = sess.run(d, feed_dict={x: 2.})\n",
    "    assert int(output) == 20, \"output does not match\"\n",
    "    print(output)"
   ]
  },
  {
   "cell_type": "markdown",
   "metadata": {},
   "source": [
    "**Expected output:**\n",
    "    20.0"
   ]
  },
  {
   "cell_type": "markdown",
   "metadata": {},
   "source": [
    "The graph we are actually executing here is the default graph:"
   ]
  },
  {
   "cell_type": "code",
   "execution_count": 9,
   "metadata": {},
   "outputs": [
    {
     "data": {
      "text/plain": [
       "<tensorflow.python.framework.ops.Graph at 0x1a37fe3978>"
      ]
     },
     "execution_count": 9,
     "metadata": {},
     "output_type": "execute_result"
    }
   ],
   "source": [
    "tf.get_default_graph()"
   ]
  },
  {
   "cell_type": "markdown",
   "metadata": {},
   "source": [
    "If we clear the graph before executing the code above, we will get an error:"
   ]
  },
  {
   "cell_type": "code",
   "execution_count": 10,
   "metadata": {},
   "outputs": [
    {
     "name": "stdout",
     "output_type": "stream",
     "text": [
      "The Session graph is empty.  Add operations to the graph before calling run().\n"
     ]
    }
   ],
   "source": [
    "tf.reset_default_graph()\n",
    "with tf.Session() as sess:\n",
    "    try:\n",
    "        sess.run(d, feed_dict={x: 2.})\n",
    "    except RuntimeError as e:\n",
    "        assert str(e) == \"The Session graph is empty.  Add operations to the graph before calling run().\" , \"wrong error\"\n",
    "        print(e)"
   ]
  },
  {
   "cell_type": "markdown",
   "metadata": {},
   "source": [
    "**Expected output**  \n",
    "The Session graph is empty.  Add operations to the graph before calling run()."
   ]
  },
  {
   "cell_type": "markdown",
   "metadata": {},
   "source": [
    "The graph we defined above made use of constants and placeholders. We can also define variables (as opposed to constants), which can change their values between executions of the graph, and which are typically only initialized once in the beginning. Variables are used for trainable parameters. For example, we could set up a linear model with a single input and output variable like this:"
   ]
  },
  {
   "cell_type": "code",
   "execution_count": 11,
   "metadata": {},
   "outputs": [
    {
     "name": "stdout",
     "output_type": "stream",
     "text": [
      "WARNING:tensorflow:From /Users/alyona/anaconda3/lib/python3.7/site-packages/tensorflow/python/framework/op_def_library.py:263: colocate_with (from tensorflow.python.framework.ops) is deprecated and will be removed in a future version.\n",
      "Instructions for updating:\n",
      "Colocations handled automatically by placer.\n",
      "w: [-0.12510145]\n",
      "b: [0.]\n",
      "y_hat: [-0.12510145]\n",
      "loss: [1.2658533]\n"
     ]
    }
   ],
   "source": [
    "# build the computational graph:\n",
    "tf.reset_default_graph()\n",
    "\n",
    "tf.set_random_seed(1)\n",
    "\n",
    "# define the input:\n",
    "x = tf.placeholder(tf.float32, name='x')\n",
    "\n",
    "# define the operations: y_hat = x*w + b\n",
    "b = tf.get_variable('b', shape=[1], dtype=tf.float32, initializer=tf.zeros_initializer())\n",
    "w = tf.get_variable('w', shape=[1], dtype=tf.float32, initializer=tf.initializers.random_normal())\n",
    "z = tf.multiply(x, w)\n",
    "y_hat = tf.add(z, b)\n",
    "\n",
    "# the desired output we will compare against:\n",
    "y = tf.placeholder(tf.float32, name='y')\n",
    "\n",
    "# the loss (squared error):\n",
    "loss = tf.square(tf.subtract(y, y_hat))\n",
    "\n",
    "# the initialization operation:\n",
    "init = tf.global_variables_initializer()\n",
    "\n",
    "with tf.Session() as sess:\n",
    "    \n",
    "    # initialize the variables:\n",
    "    sess.run(init)\n",
    "    \n",
    "    # get the value for w: tensor with a normal distribution\n",
    "    print('w: {}'.format(sess.run(w)))\n",
    "    \n",
    "    # get the value for b: a zero\n",
    "    print('b: {}'.format(sess.run(b)))\n",
    "    \n",
    "    # get the value for y_hat after random initialization of w and x = 1.\n",
    "    print('y_hat: {}'.format(sess.run(y_hat, feed_dict={x:1.})))\n",
    "        \n",
    "    # get the loss for x = 1. and y = 1. \n",
    "    print('loss: {}'.format(sess.run(loss, feed_dict={x:1., y:1.})))\n",
    "    "
   ]
  },
  {
   "cell_type": "markdown",
   "metadata": {},
   "source": [
    "**Expected output**  \n",
    "w: [-0.12510145]\n",
    "b: [0.]\n",
    "y_hat: [-0.12510145]\n",
    "loss: [1.2658533]"
   ]
  },
  {
   "cell_type": "markdown",
   "metadata": {},
   "source": [
    "We see that `w` (our weight variable) was initialized randomly, while `b` (the bias variabe) was initialized with 0. This is because we explicitely set different initializers for the two variables using `initializer= ...`.\n",
    "\n",
    "Above we simply defined a forward pass through a linear regression model. \"Under the hood\" Tensorflow has already defined the backward pass. We can optimize the parameters of our model by defining an `optimizer` object. You have to call this object along with the loss when running the tf.Session. When called, it will perform an optimization on the given loss with the chosen method and learning rate.\n",
    "\n",
    "For instance, if we want to use gradient descent the optimizer would be:"
   ]
  },
  {
   "cell_type": "code",
   "execution_count": 12,
   "metadata": {},
   "outputs": [
    {
     "name": "stdout",
     "output_type": "stream",
     "text": [
      "iteration 01 -> loss: [1.2658533], w: [0.09991884], b: [0.22502029]\n",
      "iteration 02 -> loss: [0.45570716], w: [0.23493102], b: [0.36003247]\n",
      "iteration 03 -> loss: [0.16405457], w: [0.31593832], b: [0.44103977]\n",
      "iteration 04 -> loss: [0.05905965], w: [0.3645427], b: [0.48964414]\n",
      "iteration 05 -> loss: [0.02126148], w: [0.39370534], b: [0.51880676]\n",
      "iteration 06 -> loss: [0.00765414], w: [0.41120294], b: [0.53630435]\n",
      "iteration 07 -> loss: [0.00275549], w: [0.4217015], b: [0.5468029]\n",
      "iteration 08 -> loss: [0.00099197], w: [0.42800063], b: [0.553102]\n",
      "iteration 09 -> loss: [0.00035711], w: [0.4317801], b: [0.5568815]\n",
      "iteration 10 -> loss: [0.00012856], w: [0.4340478], b: [0.55914915]\n"
     ]
    },
    {
     "data": {
      "image/png": "[encoded data removed]",
      "text/plain": [
       "<Figure size 432x288 with 1 Axes>"
      ]
     },
     "metadata": {
      "needs_background": "dark"
     },
     "output_type": "display_data"
    }
   ],
   "source": [
    "# define the optimizer:\n",
    "optimizer = tf.train.GradientDescentOptimizer(learning_rate=0.1).minimize(loss)\n",
    "\n",
    "loss_hist = []\n",
    "\n",
    "with tf.Session() as sess:\n",
    "    \n",
    "    # initialize the variables:\n",
    "    sess.run(init)\n",
    "    \n",
    "    # perform 10 steps of optimization:\n",
    "    for i in range(10):\n",
    "        \n",
    "        # we simply pass the same obsevation (x = 1. and y = 1.) 10 times \n",
    "        _, c = sess.run([optimizer, loss], feed_dict={x: 1., y: 1.})\n",
    "        loss_hist +=[c]\n",
    "        weight = sess.run(w)\n",
    "        bias = sess.run(b)\n",
    "        \n",
    "        print('iteration {:0>2} -> loss: {}, w: {}, b: {}'.format(i+1, c, weight, bias))\n",
    "\n",
    "plt.title(\"Toy example: Gradient Descent Optimizer\")\n",
    "plt.plot(loss_hist)\n",
    "plt.ylabel(\"Loss\")\n",
    "plt.xlabel(\"Epochs\")\n",
    "plt.show()"
   ]
  },
  {
   "cell_type": "markdown",
   "metadata": {},
   "source": [
    "We can see the loss going down and the variables `w` and `b` changing after each iteration. Of course it doesn't make much sense to optimize the parameters for a single observation (`x = 1. , y = 1.`) - this is just an illustrative example. But we now already have everything we need in order to start building and optimizing models with Tensorflow."
   ]
  },
  {
   "cell_type": "markdown",
   "metadata": {},
   "source": [
    "## Skin Cancer MNIST prediction \n",
    "\n",
    "We will break down the process of defining your feed-forward neural network in to multiple sub-tasks. Here make use of low-level tensorflow objects in order to implement this model. In a later exercise, we will make use of more abstract objects and operations.\n",
    "\n",
    "But first, let's have a look at the dataset:"
   ]
  },
  {
   "cell_type": "markdown",
   "metadata": {},
   "source": [
    "Complete the function `create_placeholders`. It takes the length of a single observation $\\mathbf{x}$ (`n_x`) and the length of the target variable $\\mathbf{y}$ ( `n_y` which is equal to the number of classes) as input, and returns two `tf.placeholder` objects.  We will feed batches of observations to these objects during training.\n",
    "\n",
    "The last dimension, which is the \"batch dimension\" of these objects and which is defined by the `shape` parameter should be `None`. This will allow tensorflow to automatically infer it when we pass batches of a certain size later.\n"
   ]
  },
  {
   "cell_type": "code",
   "execution_count": 13,
   "metadata": {},
   "outputs": [],
   "source": [
    "def create_placeholders(n_x, n_y):\n",
    "    \"\"\"\n",
    "    Creates the placeholders for the tensorflow session.\n",
    "    \n",
    "    Arguments:\n",
    "    n_x -- scalar, size of an image vector\n",
    "    n_y -- scalar, number of classes\n",
    "    \n",
    "    Returns:\n",
    "    X -- placeholder for the data input, of shape [n_x, None] and dtype \"float\"\n",
    "    Y -- placeholder for the input labels, of shape [n_y, None] and dtype \"float\"\n",
    "    \n",
    "    Tips:\n",
    "    - You will use None because it let's us be flexible on the number of examples you will for the placeholders.\n",
    "      In fact, the number of examples during test/train is different.\n",
    "    \"\"\"\n",
    "        \n",
    "    X = tf.placeholder(tf.float32, shape=[n_x, None] ,name='X')\n",
    "    Y = tf.placeholder(tf.float32, shape=[n_y, None] ,name='Y')\n",
    "    \n",
    "    return X, Y"
   ]
  },
  {
   "cell_type": "markdown",
   "metadata": {},
   "source": [
    "As we did in our last exercise, we define the architecture using a list of dictionaries:"
   ]
  },
  {
   "cell_type": "code",
   "execution_count": 14,
   "metadata": {},
   "outputs": [],
   "source": [
    "NN_ARCHITECTURE = [\n",
    "    {\"input_dim\": 2352, \"output_dim\": 25, \"activation\": \"relu\"},\n",
    "   {\"input_dim\": 25, \"output_dim\": 25, \"activation\": \"relu\"},\n",
    "    {\"input_dim\": 25, \"output_dim\": 3, \"activation\": \"sigmoid\"},\n",
    "] "
   ]
  },
  {
   "cell_type": "markdown",
   "metadata": {},
   "source": [
    "## Task 2:\n",
    "\n",
    "Complete the function `initialize_parameters`. It takes an architecture like the one defined in the cell above, and returns a list of dictionaries `parameters` with the following format:\n",
    "\n",
    "```\n",
    "[ {weights: W1, bias: b1},\n",
    "  {weights: W2, bias: b2},\n",
    "  ....\n",
    "  {weights: Wn, bias: bn} ]\n",
    "```\n",
    "\n",
    "where `W1, W2, b1, b2, Wn, bn` etc are variables returned by the `tf.get_variable` function for layers 1 - n.\n",
    "\n",
    "You will also have to specify the correct shapes for `W` and `b`. If you are unsure what the correct shapes are, remind yourself of the operation each layer will perform (and look at the previous exercise):\n",
    "\n",
    "$$ \\mathbf{Z}^{\\{n\\}} = \\mathbf{W}^{\\{n\\}} \\mathbf{A}^{\\{n-1\\}} + \\mathbf{b}^{\\{n\\}} $$\n",
    "\n",
    "Again, $\\mathbf{b}$ is added via broadcasting.\n",
    "\n",
    "Use `tf.initializers.he_normal(i)` as the initializer for `W`, and `tf.zeros_initializer()` as the initializer for `b`. The names for the variables should be 'W1', 'W2', ..., 'Wn' and 'b1', 'b2', ..., 'bn' for layers 1 - n. Here we use a initialization method proposed by [He et al., 2015](https://www.cv-foundation.org/openaccess/content_iccv_2015/html/He_Delving_Deep_into_ICCV_2015_paper.html)."
   ]
  },
  {
   "cell_type": "code",
   "execution_count": 15,
   "metadata": {},
   "outputs": [],
   "source": [
    "def initialize_parameters(architecture):\n",
    "    \n",
    "    \"\"\"\n",
    "    Creates the variables for the tensorflow session.\n",
    "    \n",
    "    Arguments:\n",
    "    architecture -- list of dictionaries of with layer configurations (input_dim, output_dim, activation)\n",
    "    \n",
    "    Returns:\n",
    "    parameters --  list of dictionaries with layer parameters (weights, bias)\n",
    "    \"\"\"\n",
    "    \n",
    "    tf.set_random_seed(1)\n",
    "    \n",
    "    # initialize the list\n",
    "    parameters = []\n",
    "    \n",
    "    for i, param in enumerate(architecture):\n",
    "        \n",
    "        input_dim = param[\"input_dim\"]\n",
    "        output_dim = param[\"output_dim\"]\n",
    "        \n",
    "        W = tf.get_variable(\"W{}\".format(i+1), [output_dim, input_dim], initializer=tf.initializers.he_normal(i))\n",
    "        b = tf.get_variable(\"b{}\".format(i+1), [output_dim, 1], initializer=tf.zeros_initializer())\n",
    "        \n",
    "        \n",
    "        layer_parameters = {}\n",
    "        \n",
    "        layer_parameters[\"weights\"] = W\n",
    "        layer_parameters[\"bias\"] = b\n",
    "        \n",
    "        parameters.append(layer_parameters)\n",
    "        \n",
    "    return parameters\n"
   ]
  },
  {
   "cell_type": "markdown",
   "metadata": {},
   "source": [
    "Let's create the session here and initialize the parameters for the model architecture. "
   ]
  },
  {
   "cell_type": "code",
   "execution_count": 16,
   "metadata": {},
   "outputs": [
    {
     "name": "stdout",
     "output_type": "stream",
     "text": [
      "weights of layer 1 = <tf.Variable 'W1:0' shape=(25, 2352) dtype=float32_ref>\n",
      "   bias of layer 1 = <tf.Variable 'b1:0' shape=(25, 1) dtype=float32_ref>\n",
      "weights of layer 2 = <tf.Variable 'W2:0' shape=(25, 25) dtype=float32_ref>\n",
      "   bias of layer 2 = <tf.Variable 'b2:0' shape=(25, 1) dtype=float32_ref>\n",
      "weights of layer 3 = <tf.Variable 'W3:0' shape=(3, 25) dtype=float32_ref>\n",
      "   bias of layer 3 = <tf.Variable 'b3:0' shape=(3, 1) dtype=float32_ref>\n"
     ]
    }
   ],
   "source": [
    "tf.reset_default_graph()\n",
    "with tf.Session() as sess:\n",
    "    parameters = initialize_parameters(NN_ARCHITECTURE)\n",
    "    \n",
    "    for i in range(len(NN_ARCHITECTURE)):\n",
    "    \n",
    "        print(\"weights of layer {} = \".format(i+1) + str(parameters[i][\"weights\"]))\n",
    "        print(\"   bias of layer {} = \".format(i+1) + str(parameters[i][\"bias\"]))\n"
   ]
  },
  {
   "cell_type": "markdown",
   "metadata": {},
   "source": [
    "**Expected Output:**  \n",
    "weights of layer 1 = <tf.Variable 'W1:0' shape=(25, 2352) dtype=float32_ref>  \n",
    "   bias of layer 1 = <tf.Variable 'b1:0' shape=(25, 1) dtype=float32_ref>  \n",
    "weights of layer 2 = <tf.Variable 'W2:0' shape=(25, 25) dtype=float32_ref>  \n",
    "   bias of layer 2 = <tf.Variable 'b2:0' shape=(25, 1) dtype=float32_ref>  \n",
    "weights of layer 3 = <tf.Variable 'W3:0' shape=(25, 25) dtype=float32_ref>  \n",
    "   bias of layer 3 = <tf.Variable 'b3:0' shape=(25, 1) dtype=float32_ref>  \n",
    "weights of layer 4 = <tf.Variable 'W4:0' shape=(3, 25) dtype=float32_ref>  \n",
    "   bias of layer 4 = <tf.Variable 'b4:0' shape=(3, 1) dtype=float32_ref>  \n"
   ]
  },
  {
   "cell_type": "markdown",
   "metadata": {},
   "source": [
    "## Task 3:\n",
    "We now define the forward pass through our model.\n",
    "\n",
    "Complete the function `forward_propagation`. It takes as input the placeholder tensor `X`, the `architecture` and `parameters` which are defined above. For all layers, these are the operations that have to be performed:\n",
    "\n",
    "$$  \\mathbf{Z}^{\\{l\\}} = \\mathbf{W}^{\\{l\\}} \\mathbf{A}^{\\{l-1\\}} + \\mathbf{b}^{\\{l\\}} $$\n",
    "$$  \\mathbf{A}^{\\{l\\}} = \\phi^{\\{l\\}}(\\mathbf{Z})  $$\n",
    "\n",
    "Where $\\mathbf{A}^{\\{0\\}} = \\mathbf{X}_t$ and $\\mathbf{b}^{\\{l\\}}$ is added to the matrix $\\mathbf{W}^{\\{l\\}} \\mathbf{A}^{\\{l-1\\}}$ via [broadcasting](https://docs.scipy.org/doc/numpy/user/basics.broadcasting.html). We can think of the scalar b being stretched during addition into an array with the same shape as WA. \n"
   ]
  },
  {
   "cell_type": "code",
   "execution_count": 17,
   "metadata": {},
   "outputs": [],
   "source": [
    "def forward_propagation(X, architecture, parameters):\n",
    "    \n",
    "    \"\"\"\n",
    "    Implements the forward propagation for the model (builds part of the computational graph)\n",
    "    \n",
    "    Arguments:\n",
    "    X -- input dataset placeholder, of shape (input size, number of examples)\n",
    "    architecture -- list of dictionaries, each dictionary contains \"input_dim\", \n",
    "    \"output_dim\" and \"activation\" for a single layer\n",
    "    parameters -- list of dictionaries, each dictionary contains \"weights\" and \"bias\" \n",
    "    for a single layer\n",
    "\n",
    "    Returns:\n",
    "    -- the output of the last LINEAR unit (Zn)\n",
    "     \n",
    "    \"\"\"\n",
    "    # forward prop initialization:\n",
    "    A = X\n",
    "    \n",
    "    for i, layer_parameters in enumerate(parameters):\n",
    "        \n",
    "        # linear transformation\n",
    "        Z = tf.add(tf.matmul(layer_parameters[\"weights\"],A),layer_parameters[\"bias\"])\n",
    "        \n",
    "        if i == len(parameters) - 1:\n",
    "            # return Z if we are in the last layer\n",
    "            return Z\n",
    "        else:\n",
    "            # otherwise apply the activation function\n",
    "            if architecture[i]['activation'] == 'relu':\n",
    "                A = tf.nn.relu(Z)\n",
    "            else:\n",
    "                raise NotImplementedError('activation '+architecture[i]['activation']+' not implemented!')\n",
    "                "
   ]
  },
  {
   "cell_type": "code",
   "execution_count": 18,
   "metadata": {},
   "outputs": [
    {
     "name": "stdout",
     "output_type": "stream",
     "text": [
      "Zn = Tensor(\"Add_2:0\", shape=(3, ?), dtype=float32)\n"
     ]
    }
   ],
   "source": [
    "tf.reset_default_graph()\n",
    "\n",
    "with tf.Session() as sess:\n",
    "    X, Y = create_placeholders(2352, 3)\n",
    "    parameters = initialize_parameters(NN_ARCHITECTURE)\n",
    "    Zn = forward_propagation(X, NN_ARCHITECTURE, parameters)\n",
    "    print(\"Zn = \" + str(Zn))"
   ]
  },
  {
   "cell_type": "markdown",
   "metadata": {},
   "source": [
    "**Expected Output**:  \n",
    "```\n",
    "Zn = Tensor(\"Add_3:0\", shape=(3, ?), dtype=float32)\n",
    "```"
   ]
  },
  {
   "cell_type": "markdown",
   "metadata": {},
   "source": [
    "## Task 4:\n",
    "\n",
    "Once we have the output $\\mathbf{Z}^{\\{n\\}}$ of the last layer, we will calculate the loss. Here we will implement two cases, corresponding to two activation functions sigmoid or softmax:\n",
    "\n",
    "1. if the activation function is sigmoid (single class or multi-label), use `tf.nn.sigmoid_cross_entropy_with_logits`\n",
    "2. if the activation function is softmax (multi class), use `tf.nn.softmax_cross_entropy_with_logits`\n",
    "\n",
    "Tensorflow implements numerically stable versions of the cross-entropy loss that take the logits (i.e. the values in $\\mathbf{Z}^{\\{n\\}}$) instead of the predicted probabilities as input.\n",
    "\n",
    "Remember, the loss for a $m$ samples is given my the average accross all samples. Use `tf.reduce_mean` to get the average accross all samples."
   ]
  },
  {
   "cell_type": "code",
   "execution_count": 19,
   "metadata": {},
   "outputs": [],
   "source": [
    "def compute_loss(Y, Z, activation='sigmoid'):\n",
    "    \n",
    "    \"\"\"\n",
    "    Implements the calculation of the loss\n",
    "    \n",
    "    Arguments:\n",
    "    Y -- output dataset placeholder, of shape (output size, number of examples)\n",
    "    Z -- tensor containing the output of the last hidden layer (without applying the activation function)\n",
    "    activation -- activation function for the last hidden layer\n",
    "\n",
    "    Returns:\n",
    "    loss -- \n",
    "    \n",
    "    Tips:\n",
    "     - use tf.nn.sigmoid_cross_entropy_with_logits or tf.nn.softmax_cross_entropy_with_logits depending on the activation function\n",
    "     - use tf.reduce_mean to get the average accross samples \n",
    "     \n",
    "    \"\"\"\n",
    "    # to fit the tensorflow requirement for tf.nn.softmax_cross_entropy_with_logits(...,...)\n",
    "    inputs ={\n",
    "    \"logits\": tf.transpose(Z)\n",
    "    ,\"labels\": tf.transpose(Y)\n",
    "    }\n",
    "    if activation == 'sigmoid':\n",
    "        loss = tf.nn.sigmoid_cross_entropy_with_logits(**inputs)\n",
    "    elif activation == 'softmax':\n",
    "        loss = tf.nn.softmax_cross_entropy_with_logits(**inputs)\n",
    "    else:\n",
    "        raise ValueError('activation has to be either sigmoid or softmax!')\n",
    "        \n",
    "    return tf.reduce_mean(loss)\n"
   ]
  },
  {
   "cell_type": "markdown",
   "metadata": {},
   "source": [
    "## Task 5:\n",
    "\n",
    "We will now bring everything together in the `model` function. Complete the function by using the functions you implemented above:"
   ]
  },
  {
   "cell_type": "code",
   "execution_count": 20,
   "metadata": {},
   "outputs": [],
   "source": [
    "def calculate_accuracy(Z_n, Y, architecture):\n",
    "    # Calculate the correct predictions\n",
    "    if architecture[-1][\"activation\"] == \"sigmoid\":\n",
    "        correct_prediction = tf.equal(tf.cast(tf.greater_equal(Z_n, tf.constant(0.5)), \"float\"), Y)\n",
    "    elif architecture[-1][\"activation\"] == \"softmax\":\n",
    "        correct_prediction = tf.equal(tf.argmax(Z_n), tf.argmax(Y))\n",
    "        \n",
    "    # Calculate accuracy on the test set. Hint: use tensorflows reduce-mean() and cast function\n",
    "    accuracy = tf.reduce_mean(tf.cast(correct_prediction,\"float\"))\n",
    "    return accuracy    "
   ]
  },
  {
   "cell_type": "code",
   "execution_count": 21,
   "metadata": {},
   "outputs": [],
   "source": [
    "from IPython.display import clear_output\n",
    "def update_progress(progress):\n",
    "    # displays a progress bar\n",
    "    bar_length = 50\n",
    "    block = int(round(bar_length * progress))\n",
    "    clear_output(wait = True)\n",
    "    text = \"Progress: [{0}] {1:.1f}%\".format( \"#\" * block + \"-\" * (bar_length - block), progress * 100)\n",
    "    print(text)"
   ]
  },
  {
   "cell_type": "code",
   "execution_count": 22,
   "metadata": {},
   "outputs": [],
   "source": [
    "import time\n",
    "def model(X_train, Y_train, X_test, Y_test, architecture, learning_rate = 0.0001,\n",
    "          num_epochs=1000, minibatch_size = 32, print_loss = True):\n",
    "   \n",
    "    text = \"\"\n",
    "    ops.reset_default_graph()  # to be able to rerun the model without overwriting tf variables\n",
    "    \n",
    "    tf.set_random_seed(1)      # to keep consistent results\n",
    "    seed = 3                   # to keep consistent results\n",
    "    \n",
    "    (n_x, m) = X_train.shape   # (n_x: input size, m : number of examples in the train set)\n",
    "    n_y = Y_train.shape[0]        # n_y : output size, i.e. the number of classes\n",
    "    \n",
    "    loss_history = []          # To keep track of the loss\n",
    "    \n",
    "    \n",
    "    # Create Placeholders of shape (n_x, n_y)\n",
    "    X, Y = create_placeholders(n_x, n_y)\n",
    "    \n",
    "    # Initialize objects for the parameters (weights and biases) with our function from above\n",
    "    parameters = initialize_parameters(architecture)\n",
    "    \n",
    "    # Forward propagation: Build the forward propagation in the tensorflow graph with our function from above\n",
    "    Z_n = forward_propagation(X, architecture, parameters)\n",
    "    \n",
    "    # Loss function: Add loss function to tensorflow graph\n",
    "    loss = compute_loss(Y, Z_n, architecture[-1][\"activation\"])\n",
    "    \n",
    "    # Backpropagation: Define the tensorflow optimizer. Use an AdamOptimizer\n",
    "    optimizer = tf.train.AdamOptimizer(learning_rate=learning_rate).minimize(loss)\n",
    "    \n",
    "    # Initialize all the variables\n",
    "    init = tf.global_variables_initializer()\n",
    "    \n",
    "    with tf.Session() as sess:\n",
    "        \n",
    "        # Run the initialization\n",
    "        sess.run(init)\n",
    "         \n",
    "        # Do the training loop\n",
    "        start = time.time()\n",
    "        for epoch in range(num_epochs):\n",
    "            \n",
    "            epoch_loss = 0.                            # Defines a loss related to an epoch\n",
    "            epoc_acc = 0.\n",
    "            num_minibatches = int(m / minibatch_size)  # number of minibatches per epoch\n",
    "            \n",
    "            seed = seed + 1\n",
    "            minibatches = random_mini_batches(X_train, Y_train, minibatch_size, seed)\n",
    "            \n",
    "            for minibatch in minibatches:\n",
    "\n",
    "                # Select a minibatch\n",
    "                (minibatch_X, minibatch_Y) = minibatch\n",
    "                \n",
    "                # IMPORTANT: The line that runs the graph on a minibatch.\n",
    "                # Run the session to execute the \"optimizer\" and the \"cost\", the feed_dict should contain a minibatch for (X, Y).\n",
    "                \n",
    "                _ , minibatch_loss, y_hat = sess.run([optimizer, loss, Z_n], feed_dict={X: minibatch_X, Y: minibatch_Y})\n",
    "                \n",
    "                #epoc_acc, _ = tf.metrics.accuracy(minibatch_Y, y_hat)\n",
    "                \n",
    "                 \n",
    "                #tf.cast(tf.reduce_mean(epoc_acc),\"float\")\n",
    "                epoch_loss += minibatch_loss / num_minibatches\n",
    "            \n",
    "            #epoc_acc = calculate_accuracy(Z_n, Y_train, architecture).eval({X: X_train, Y: Y_train})\n",
    "            # Print the cost every epoch\n",
    "            if print_loss == True and epoch % 10 == 0:\n",
    "               \n",
    "                text = \"epoch %d  loss: %f acc: %f\" % (epoch,epoch_loss,epoc_acc )\n",
    "            if print_loss == True:# and epoch % 5 == 0:\n",
    "                \n",
    "                loss_history.append(epoch_loss)\n",
    "            \n",
    "            update_progress(epoch/num_epochs)\n",
    "            print(text)\n",
    "        \n",
    "        end = time.time()\n",
    "        # plot the cost\n",
    "        plt.plot(np.squeeze(loss_history))\n",
    "        plt.ylabel('Loss')\n",
    "        plt.xlabel('Iterations (per tens)')\n",
    "        plt.title(\"Learning rate =\" + str(learning_rate))\n",
    "        plt.show()\n",
    "\n",
    "        # lets save the parameters in a variable\n",
    "        parameters = sess.run(parameters)\n",
    "        print (\"Parameters have been trained in %f s!\"%(end - start))\n",
    "\n",
    "        accuracy = calculate_accuracy(Z_n, Y, architecture)\n",
    "        \n",
    "        train_acc = accuracy.eval({X: X_train, Y: Y_train})\n",
    "        test_acc= accuracy.eval({X: X_test, Y: Y_test})\n",
    "        print (\"Train Accuracy:\", train_acc )\n",
    "        print (\"Test Accuracy:\", test_acc)\n",
    "        \n",
    "        return parameters, train_acc, test_acc"
   ]
  },
  {
   "cell_type": "code",
   "execution_count": 31,
   "metadata": {},
   "outputs": [
    {
     "name": "stdout",
     "output_type": "stream",
     "text": [
      "Progress: [#############################################-----] 90.0%\n",
      "epoch 0  loss: 5514.050831 acc: 0.000000\n"
     ]
    },
    {
     "data": {
      "image/png": "[encoded data removed]",
      "text/plain": [
       "<Figure size 432x288 with 1 Axes>"
      ]
     },
     "metadata": {
      "needs_background": "dark"
     },
     "output_type": "display_data"
    },
    {
     "name": "stdout",
     "output_type": "stream",
     "text": [
      "Parameters have been trained in 4.049042 s!\n",
      "Train Accuracy: 0.87208503\n",
      "Test Accuracy: 0.8645333\n"
     ]
    }
   ],
   "source": [
    "learning_rates = [0.0001, 0.001, 0.01, 0.1]\n",
    "epochs = [1, 3, 5, 10, 50, 100]\n",
    "minibatch_sizes = [16, 32, 64,128]\n",
    "results = []\n",
    "\n",
    "for l in learning_rates:\n",
    "    tmp=[]\n",
    "    for m in minibatch_sizes:\n",
    "        params, train,test = model(X_train, y_train, X_test, y_test\n",
    "           ,NN_ARCHITECTURE, num_epochs=10\n",
    "           ,learning_rate=l, minibatch_size=m)\n",
    "        tmp.append((train,test))\n",
    "    results.append(tmp)"
   ]
  },
  {
   "cell_type": "code",
   "execution_count": 54,
   "metadata": {},
   "outputs": [
    {
     "data": {
      "image/png": "[encoded data removed]",
      "text/plain": [
       "<Figure size 432x288 with 1 Axes>"
      ]
     },
     "metadata": {
      "needs_background": "light"
     },
     "output_type": "display_data"
    }
   ],
   "source": [
    "fig, ax = plt.subplots()\n",
    "\n",
    "plt.plot(learning_rates,[x[:][1] for x in results])\n",
    "# plt.style.use(\"bmh\")\n",
    "plt.xlabel(\"Learning Rate\", color='b')\n",
    "plt.ylabel(\"Test Accuracy\", color='b')\n",
    "plt.title(\"Change in Test Accuracy with Change of Learning Rates\", color='b')\n",
    "ax.tick_params(direction='out', length=6, width=2, colors='b',\n",
    "               grid_color='b', grid_alpha=0.5)"
   ]
  },
  {
   "cell_type": "markdown",
   "metadata": {},
   "source": [
    "**Question:**  \n",
    "Play around with the architecture, (i.e. add another layer), learning rate, epochs, ... as far the your computer allows it. Did you find a constellation, that gives a better result? "
   ]
  },
  {
   "cell_type": "markdown",
   "metadata": {},
   "source": [
    "If we set the learning rate lower, for example to 0.00005, theoretically the accuracy should improve, because the gradient descent descends more slowly and precisely. <br>\n",
    "Small mini-batches learn quicker, but larger mini-batches should perform better over time. Therefore, we increased the mini-batch size to 128 and it improved the results. Decresing the mini-batch size worsened the results. <br>\n",
    "Changing the activation function of the last layer from softmax to sigmoid improved the results quiet strongly. <br>\n",
    "Decreasing the number of epochs didn't worsen the outcome, as the algorithm converges quite soon. Especially when the learning rate was increased to speed up training.<br>\n",
    "For example, when we trained with the learning rate 0.01, just 3 epochs, and mini-batch size 128 the test accuracy was 0.858. The net had only input layer and output layer. The activation of the output layer was sigmoid.\n",
    "Increasing the number of epochs from 3 to 300 increases the test accuracy only by 0.1, yielding 0.8648. The Training accuracy is then by 0.872."
   ]
  }
 ],
 "metadata": {
  "kernelspec": {
   "display_name": "Python 3",
   "language": "python",
   "name": "python3"
  },
  "language_info": {
   "codemirror_mode": {
    "name": "ipython",
    "version": 3
   },
   "file_extension": ".py",
   "mimetype": "text/x-python",
   "name": "python",
   "nbconvert_exporter": "python",
   "pygments_lexer": "ipython3",
   "version": "3.7.3"
  }
 },
 "nbformat": 4,
 "nbformat_minor": 2
}
