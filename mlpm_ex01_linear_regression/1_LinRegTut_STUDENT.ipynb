{
 "cells": [
  {
   "cell_type": "markdown",
   "metadata": {},
   "source": [
    "# Intro  \n",
    "Welcome to your first programming exercise of this course. We will investigate a diabetes-dataset and see if certain variables are associated with each other. In this tutorial, we want to test for true associations with linear regression.  \n",
    "\n",
    "Depending on the causal connections between two variables, $x$ and $y$, their true relationship may be linear or nonlinear. However, regardless of the true pattern of association, a linear model can always serve as a first approximation. In this case, the analysis is particularly simple,  \n",
    "$$y = \\alpha + \\beta x + e$$ \n",
    "where $\\alpha$ is the y-intercept, $\\beta$ is the slope of the line (also known as the regression\n",
    "coefficient), and e is the residual error. Letting  \n",
    "$$\\hat y = \\alpha + \\beta x$$\n",
    "be the value of $y$ predicted by the model, then the residual error is the deviation between the observed and predicted y value, i.e., $e =  y - \\hat y$. When information on $x$ is used to predict $y$, $x$ is referred to as the predictor or independent variable and $y$ as the response or dependent variable.\n",
    "\n",
    "The objective of linear regression analysis is to estimate the model parameters, $\\alpha$ and $\\beta$, that give the “best fit” for the joint distribution of $x$ and $y$. The true parameters $\\alpha$ and $\\beta$ are only obtainable if the entire population is sampled. With an incomplete sample, $\\alpha$ and $\\beta$ are approximated by sample estimators, denoted as $a$ and $b$. In real-world applications, there is often only a weak linear relationship between two variables which makes it difficult to say anything more precise. In order to infer the parameters of our model, an objective definition of “best fit” is required. The mathematical method of least-squares linear regression provides one such best-fit solution.\n",
    "\n",
    "For this exercise you will need the pandas, matplotlib and numpy python packages.\n",
    "\n",
    "We provide template code, which you will have to complete. The parts you will have to change are marked with `#your_code`\n",
    "\n",
    "The ideas conveyed in this exercise, especially the connection between the covariance of two variables $Cov(x,y)$ and the regression coefficient $b$ are explained in more detail [here](http://nitro.biosci.arizona.edu/courses/EEB581-2006/handouts/bivdistrib.pdf)."
   ]
  },
  {
   "cell_type": "markdown",
   "metadata": {},
   "source": [
    "## The Diabetes Dataset\n",
    "\n",
    "In this exercise we will be working with the [Pima Indians Diabetes Database](https://www.kaggle.com/uciml/pima-indians-diabetes-databasec).\n",
    "\n",
    "The dataset consists of 8 medical predictor variables and one target variable, which were gathered in order to predict diabetes outcome in a female population of the native American Pima-tribe (USA). The dataset was part of a kaggle competition.\n",
    "\n",
    "The data is stored in a CSV-file. We use the pandas package to load the data. An introduction in to pandas can be found [here](https://pandas.pydata.org/pandas-docs/stable/getting_started/10min.html).\n"
   ]
  },
  {
   "cell_type": "code",
   "execution_count": 1,
   "metadata": {},
   "outputs": [],
   "source": [
    "# for data analysis and manipulation\n",
    "import pandas as pd\n",
    "\n",
    "# for manipulation of graph and figures\n",
    "from matplotlib import pyplot as plt\n",
    "\n",
    "# access to square root function from mathematical library\n",
    "from math import sqrt"
   ]
  },
  {
   "cell_type": "code",
   "execution_count": 2,
   "metadata": {},
   "outputs": [],
   "source": [
    "# this loads the data into a pandas DataFrame, './diabetes.csv' specifies the directory for the datafile\n",
    "df = pd.read_csv('./diabetes.csv')"
   ]
  },
  {
   "cell_type": "code",
   "execution_count": 3,
   "metadata": {
    "scrolled": true
   },
   "outputs": [
    {
     "data": {
      "text/html": [
       "<div>\n",
       "<style scoped>\n",
       "    .dataframe tbody tr th:only-of-type {\n",
       "        vertical-align: middle;\n",
       "    }\n",
       "\n",
       "    .dataframe tbody tr th {\n",
       "        vertical-align: top;\n",
       "    }\n",
       "\n",
       "    .dataframe thead th {\n",
       "        text-align: right;\n",
       "    }\n",
       "</style>\n",
       "<table border=\"1\" class=\"dataframe\">\n",
       "  <thead>\n",
       "    <tr style=\"text-align: right;\">\n",
       "      <th></th>\n",
       "      <th>Pregnancies</th>\n",
       "      <th>Glucose</th>\n",
       "      <th>BloodPressure</th>\n",
       "      <th>SkinThickness</th>\n",
       "      <th>Insulin</th>\n",
       "      <th>BMI</th>\n",
       "      <th>DiabetesPedigreeFunction</th>\n",
       "      <th>Age</th>\n",
       "      <th>Outcome</th>\n",
       "    </tr>\n",
       "  </thead>\n",
       "  <tbody>\n",
       "    <tr>\n",
       "      <th>0</th>\n",
       "      <td>6</td>\n",
       "      <td>148</td>\n",
       "      <td>72</td>\n",
       "      <td>35</td>\n",
       "      <td>0</td>\n",
       "      <td>33.6</td>\n",
       "      <td>0.627</td>\n",
       "      <td>50</td>\n",
       "      <td>1</td>\n",
       "    </tr>\n",
       "    <tr>\n",
       "      <th>1</th>\n",
       "      <td>1</td>\n",
       "      <td>85</td>\n",
       "      <td>66</td>\n",
       "      <td>29</td>\n",
       "      <td>0</td>\n",
       "      <td>26.6</td>\n",
       "      <td>0.351</td>\n",
       "      <td>31</td>\n",
       "      <td>0</td>\n",
       "    </tr>\n",
       "    <tr>\n",
       "      <th>2</th>\n",
       "      <td>8</td>\n",
       "      <td>183</td>\n",
       "      <td>64</td>\n",
       "      <td>0</td>\n",
       "      <td>0</td>\n",
       "      <td>23.3</td>\n",
       "      <td>0.672</td>\n",
       "      <td>32</td>\n",
       "      <td>1</td>\n",
       "    </tr>\n",
       "    <tr>\n",
       "      <th>3</th>\n",
       "      <td>1</td>\n",
       "      <td>89</td>\n",
       "      <td>66</td>\n",
       "      <td>23</td>\n",
       "      <td>94</td>\n",
       "      <td>28.1</td>\n",
       "      <td>0.167</td>\n",
       "      <td>21</td>\n",
       "      <td>0</td>\n",
       "    </tr>\n",
       "    <tr>\n",
       "      <th>4</th>\n",
       "      <td>0</td>\n",
       "      <td>137</td>\n",
       "      <td>40</td>\n",
       "      <td>35</td>\n",
       "      <td>168</td>\n",
       "      <td>43.1</td>\n",
       "      <td>2.288</td>\n",
       "      <td>33</td>\n",
       "      <td>1</td>\n",
       "    </tr>\n",
       "  </tbody>\n",
       "</table>\n",
       "</div>"
      ],
      "text/plain": [
       "   Pregnancies  Glucose  BloodPressure  SkinThickness  Insulin   BMI  \\\n",
       "0            6      148             72             35        0  33.6   \n",
       "1            1       85             66             29        0  26.6   \n",
       "2            8      183             64              0        0  23.3   \n",
       "3            1       89             66             23       94  28.1   \n",
       "4            0      137             40             35      168  43.1   \n",
       "\n",
       "   DiabetesPedigreeFunction  Age  Outcome  \n",
       "0                     0.627   50        1  \n",
       "1                     0.351   31        0  \n",
       "2                     0.672   32        1  \n",
       "3                     0.167   21        0  \n",
       "4                     2.288   33        1  "
      ]
     },
     "execution_count": 3,
     "metadata": {},
     "output_type": "execute_result"
    }
   ],
   "source": [
    "# this command shows the first rows of the table\n",
    "df.head()"
   ]
  },
  {
   "cell_type": "code",
   "execution_count": 7,
   "metadata": {},
   "outputs": [
    {
     "ename": "TypeError",
     "evalue": "scatter() missing 2 required positional arguments: 'x' and 'y'",
     "output_type": "error",
     "traceback": [
      "\u001b[0;31m---------------------------------------------------------------------------\u001b[0m",
      "\u001b[0;31mTypeError\u001b[0m                                 Traceback (most recent call last)",
      "\u001b[0;32m<ipython-input-7-f7e265469ccc>\u001b[0m in \u001b[0;36m<module>\u001b[0;34m\u001b[0m\n\u001b[1;32m      1\u001b[0m \u001b[0;31m# in a jupyter-notebook, you can display the documentation for any function/method/object by propending a question mark:\u001b[0m\u001b[0;34m\u001b[0m\u001b[0;34m\u001b[0m\u001b[0;34m\u001b[0m\u001b[0m\n\u001b[0;32m----> 2\u001b[0;31m \u001b[0mplt\u001b[0m\u001b[0;34m.\u001b[0m\u001b[0mscatter\u001b[0m\u001b[0;34m(\u001b[0m\u001b[0;34m)\u001b[0m\u001b[0;34m\u001b[0m\u001b[0;34m\u001b[0m\u001b[0m\n\u001b[0m",
      "\u001b[0;31mTypeError\u001b[0m: scatter() missing 2 required positional arguments: 'x' and 'y'"
     ]
    }
   ],
   "source": [
    "# in a jupyter-notebook, you can display the documentation for any function/method/object by propending a question mark:\n",
    "plt.scatter()"
   ]
  },
  {
   "cell_type": "code",
   "execution_count": 8,
   "metadata": {},
   "outputs": [
    {
     "data": {
      "image/png": "[encoded data removed]",
      "text/plain": [
       "<Figure size 432x288 with 1 Axes>"
      ]
     },
     "metadata": {
      "needs_background": "light"
     },
     "output_type": "display_data"
    }
   ],
   "source": [
    "# let's explore the dataset a little bit\n",
    "# for this exercise we are interested in the relationship between insulin and BMI.\n",
    "# For this we can produce a scatter-plot of BMI vs Insulin.\n",
    "# Try to explore other variables as well, using the plt.scatter function\n",
    "\n",
    "plt.scatter(df.BMI, df.Insulin)\n",
    "plt.xlabel('BMI')\n",
    "plt.ylabel('Insulin')\n",
    "plt.suptitle('BMI vs Insulin')\n",
    "plt.show()"
   ]
  },
  {
   "cell_type": "code",
   "execution_count": 9,
   "metadata": {},
   "outputs": [
    {
     "data": {
      "image/png": "[encoded data removed]",
      "text/plain": [
       "<Figure size 432x288 with 1 Axes>"
      ]
     },
     "metadata": {
      "needs_background": "light"
     },
     "output_type": "display_data"
    }
   ],
   "source": [
    "# In the plot above, we can see that there are many datapoints which do not have a measurement for Insulin (Insulin == 0).\n",
    "# We decide that we want to exclude these values. \n",
    "\n",
    "# There are also missing values for BMI (BMI == 0), which we exclude as well.\n",
    "\n",
    "df = df[df.Insulin>0]\n",
    "df = df[df.BMI>0]\n",
    "plt.scatter(df.BMI, df.Insulin)\n",
    "plt.xlabel('BMI')\n",
    "plt.ylabel('Insulin')\n",
    "plt.suptitle('BMI vs Insulin')\n",
    "plt.show()"
   ]
  },
  {
   "cell_type": "markdown",
   "metadata": {},
   "source": [
    "# Step 1: Implementation using lists\n",
    "**Task 1.1:** Write functions to caluclate the mean and variance. Call those functions to calculate the mean and variance for BMI and Insulin.\n",
    "\n",
    "$$Mean, \\mu = \\frac{\\sum x_i}{n} $$\n",
    "\n",
    "$$Variance, \\sigma ^{2} = \\frac{\\sum (x - \\mu)^{2}}{n}$$"
   ]
  },
  {
   "cell_type": "code",
   "execution_count": 16,
   "metadata": {},
   "outputs": [],
   "source": [
    "# Calculate the mean value of a python list of numbers\n",
    "# def is used to define our own functions\n",
    "\n",
    "def mean(values):\n",
    "    m = sum(values)/len(values)\n",
    "    return m\n",
    "    \n",
    "# Calculate the variance of a list of numbers\n",
    "def variance(values, mean):\n",
    "    v = sum([(x-mean)**2 for x in values])/len(values)\n",
    "    return v"
   ]
  },
  {
   "cell_type": "code",
   "execution_count": 17,
   "metadata": {},
   "outputs": [],
   "source": [
    "# we store our variables in lists\n",
    "x = list(df.BMI)\n",
    "y = list(df.Insulin)"
   ]
  },
  {
   "cell_type": "code",
   "execution_count": 20,
   "metadata": {},
   "outputs": [
    {
     "name": "stdout",
     "output_type": "stream",
     "text": [
      "x stats: mean=33.073 variance=49.210\n",
      "y stats: mean=155.718 variance=14096.406\n"
     ]
    }
   ],
   "source": [
    "# calculate mean and variance\n",
    "\n",
    "mean_x, mean_y = mean(x),mean(y)\n",
    "var_x, var_y = variance(x,mean_x),variance(y,mean_y)\n",
    "\n",
    "print('x stats: mean=%.3f variance=%.3f' % (mean_x, var_x))\n",
    "print('y stats: mean=%.3f variance=%.3f' % (mean_y, var_y))\n",
    "\n",
    "#assert mean_x == 33.073\n",
    "#assert var_x ==  49.210"
   ]
  },
  {
   "cell_type": "markdown",
   "metadata": {},
   "source": [
    "**Expected output**:  \n",
    "x stats: mean = 33.073 variance = 49.210  \n",
    "y stats: mean = 155.718 variance = 14096.406"
   ]
  },
  {
   "cell_type": "markdown",
   "metadata": {},
   "source": [
    "Now we want to investigate if the BMI and Insulin are somehow associated. We do this by calculating the covariance:\n",
    "\n",
    "The covariance is a measure of association between x and y. It is positive if y increases with increasing x, negative if y decreases as x increases, and zero if there is no linear tendency for y to change with x. If x and y are independent, then σ(x,y) = 0, \n",
    "\n",
    "$$Cov (x,y) = \\frac{\\sum(x_{i}-\\bar{x})(y_{i}-\\bar{y})}{n} $$\n",
    "\n",
    "**Question 1.1:** Are two variables x, y always independent, if their covariance is 0? Write your anser in the field below by double-clicking."
   ]
  },
  {
   "cell_type": "raw",
   "metadata": {},
   "source": [
    "write your answer here"
   ]
  },
  {
   "cell_type": "code",
   "execution_count": null,
   "metadata": {},
   "outputs": [],
   "source": [
    "# Calculate covariance between x and y\n",
    "def covariance(x, mean_x, y, mean_y):\n",
    "    covar = 0.0\n",
    "    for index, i in enumerate(x):\n",
    "        covar += (i)\n",
    "    return covar / float(len(x))\n",
    "\n",
    "covar = covariance(x, mean_x, y, mean_y)\n",
    "print('Covariance: %.3f' % (covar))"
   ]
  },
  {
   "cell_type": "markdown",
   "metadata": {},
   "source": [
    "**Expected output**:  \n",
    "Covariance: 189.938"
   ]
  },
  {
   "cell_type": "markdown",
   "metadata": {},
   "source": [
    "Now we want to find coefficients for a line, that predicts our observations best.  \n",
    "\n",
    "To find the 'best fit' of coefficients for this predictor, we calculate the least-squares linear regression. The least-squares solution yields the values of $a$ and $b$ that minimize the mean squared residual. The formula is the following:\n",
    "$$a = \\bar y − b * \\bar x $$\n",
    "$$b = Cov(x, y) / Var(x)$$\n",
    "Thus, the least-squares estimators for the intercept and slope of a linear regression are simple functions of the observed means, variances, and covariances.   \n",
    " \n",
    "**Task 1.2:** Write a function that calculates the model parameters. Call this function to calculate the coefficients $a$ and $b$ for our linear model to predict the Insulin-level from a BMI observation."
   ]
  },
  {
   "cell_type": "code",
   "execution_count": null,
   "metadata": {},
   "outputs": [],
   "source": [
    "# Calculate coefficients a and b\n",
    "def coefficients(x,y):\n",
    "    b = # your_code\n",
    "    a = # your_code\n",
    "\n",
    "a, b = coefficients(x,y)\n",
    "print('Coefficients: a=%.3f, b=%.3f' % (a, b))"
   ]
  },
  {
   "cell_type": "markdown",
   "metadata": {},
   "source": [
    "**Expected output:**  \n",
    "Coefficients: a=28.067, b=3.860"
   ]
  },
  {
   "cell_type": "markdown",
   "metadata": {},
   "source": [
    "Now that we predicited the coefficients for our 'best fit' linear regression model, we need to test it by predicting Insulin-levels from observing BMIs. In other words, if we have a measurement of the BMI, how well can we predict the Insulin level with our model?\n",
    "\n",
    "To do this, we take our linear regression function, insert our estimated coefficients, and calculate y for each observation x. \n",
    "\n",
    "$$\\hat y = a + b * x$$\n",
    "\n",
    "\n",
    "**Task 1.3:** Write a function that predicts y from x. Call this function with x and y.\n"
   ]
  },
  {
   "cell_type": "code",
   "execution_count": null,
   "metadata": {},
   "outputs": [],
   "source": [
    "# Make predictions\n",
    "def simple_linear_regression(x, y):\n",
    "    predictions = list()\n",
    "    a, b = coefficients(x, y)\n",
    "    for i in x:\n",
    "        yhat = # your_code\n",
    "        predictions.append(yhat)\n",
    "    return predictions\n",
    "\n",
    "predictions = # your_code"
   ]
  },
  {
   "cell_type": "markdown",
   "metadata": {},
   "source": [
    "To evaluate our predictions, we look at the difference between the Insulin level, that our model predicts and the true Insulin level and calculate the root mean squared error (rmse).\n",
    "\n",
    "$$ RMSE = \\sqrt{\\frac{\\sum (\\hat{y_{i}}-y_{i})^2}{n}} $$\n",
    "\n",
    "**Task 1.4:** Write a function that calculates the root mean squared  error, between the true and predicted value. "
   ]
  },
  {
   "cell_type": "code",
   "execution_count": null,
   "metadata": {},
   "outputs": [],
   "source": [
    " \n",
    "# Calculate root mean squared error\n",
    "def rmse_metric(actual, predicted):\n",
    "    sum_error = 0.0\n",
    "    mean_error = # your_code\n",
    "    \n",
    "    return sqrt(mean_error)\n",
    "\n",
    "\n",
    "# Evaluate regression algorithm on training dataset\n",
    "def evaluate_algorithm(x, y, algorithm):\n",
    "    predicted = # your_code\n",
    "    rmse = # your_code\n",
    "    return rmse\n",
    "\n",
    "rmse = evaluate_algorithm(x, y, simple_linear_regression)\n",
    "print('RMSE: %.3f' % (rmse))"
   ]
  },
  {
   "cell_type": "markdown",
   "metadata": {},
   "source": [
    "**Expected output: **   \n",
    "RMSE: 115.600"
   ]
  },
  {
   "cell_type": "markdown",
   "metadata": {},
   "source": [
    "Let's plot our results with the pyplot package from matplotlib:  "
   ]
  },
  {
   "cell_type": "code",
   "execution_count": null,
   "metadata": {},
   "outputs": [],
   "source": [
    "plt.scatter(x, y, color='black')\n",
    "plt.xlabel('BMI')\n",
    "plt.ylabel('Insulin')\n",
    "plt.suptitle('RMSE')\n",
    "plt.plot(x, predictions, color='blue', linewidth=3)\n"
   ]
  },
  {
   "cell_type": "markdown",
   "metadata": {},
   "source": [
    "# Discussion:  \n",
    "1) What can you say about the association between BMI and Insulin?  \n",
    "2) Is BMI a good predictor for Insulin?  \n",
    "3) What would be your next steps to improve the prediction for Insulin?  \n",
    "\n",
    "**Task 1.5:** Write your answers in the cell below"
   ]
  },
  {
   "cell_type": "raw",
   "metadata": {},
   "source": []
  },
  {
   "cell_type": "markdown",
   "metadata": {},
   "source": [
    "# Step 2: Implementation using numpy\n",
    "\n",
    "Working with lists required us to write a lot of code. Python can save you from all this work, if you are familiar with the numpy package.\n",
    "If you are not familiar with numpy yet. We recommend to browse through the documentation page at https://www.numpy.org and also work through the provided tutorial there.  "
   ]
  },
  {
   "cell_type": "code",
   "execution_count": null,
   "metadata": {},
   "outputs": [],
   "source": [
    "# First we need to import the numpy package\n",
    "import numpy as np\n",
    "\n",
    "# The 'as np' notion is optional, but it is helpful because we can use the np abbreviation \n",
    "# when we call functions from the numpy module. "
   ]
  },
  {
   "cell_type": "markdown",
   "metadata": {},
   "source": [
    "**Task 2.1:**  \n",
    "1) Define x and y. This time, we do not have to convert them into lists. They can keep it as arrays.  \n",
    "2) Calculate the mean and variance for x and y, using numpy functions. "
   ]
  },
  {
   "cell_type": "code",
   "execution_count": null,
   "metadata": {},
   "outputs": [],
   "source": [
    "# calculate mean and variance\n",
    "x = # your_code\n",
    "y = # your_code\n",
    "\n",
    "mean_x = # your_code\n",
    "mean_y = # your_code\n",
    "var_x = # your_code\n",
    "var_y = # your_code\n",
    "\n",
    "print('x stats: mean=%.3f variance=%.3f' % (mean_x, var_x))\n",
    "print('y stats: mean=%.3f variance=%.3f' % (mean_y, var_y))"
   ]
  },
  {
   "cell_type": "markdown",
   "metadata": {},
   "source": [
    "**Expected output:  **  \n",
    "x stats: mean=33.073 variance=49.210  \n",
    "y stats: mean=155.718 variance=14096.406"
   ]
  },
  {
   "cell_type": "markdown",
   "metadata": {},
   "source": [
    "**Task 2.2:** Now rewrite the covariance() function and call the numpy-covariance function within. The numpy-covariance function returns a covariance matrix (2x2) with 4 values. \n",
    "\n",
    "**Question 2.1:** Which values does the covariance matrix represent? Which ones are the actual covariance? What are the other values? Write your anser in the cell below."
   ]
  },
  {
   "cell_type": "raw",
   "metadata": {},
   "source": []
  },
  {
   "cell_type": "markdown",
   "metadata": {},
   "source": [
    "Now, calculate the covariance, using the numpy function cov(). The function returns a covariance matrix, and you need to index the covariance value within the matrix. \n",
    "So, for the covariance() function, index one covariance value and return it. "
   ]
  },
  {
   "cell_type": "code",
   "execution_count": null,
   "metadata": {},
   "outputs": [],
   "source": [
    "# calculate covariance\n",
    "def covariance(x,y):\n",
    "    covar = # your_code\n",
    "    return covar\n",
    "\n",
    "covariance(x,y)"
   ]
  },
  {
   "cell_type": "markdown",
   "metadata": {},
   "source": [
    "** Expected output: **  \n",
    "190.42283065898116"
   ]
  },
  {
   "cell_type": "markdown",
   "metadata": {},
   "source": [
    "**Task 2.3:** Now, write a coefficients() function to calculate the coefficients b0 and b1 by using numpy functions. \n",
    "Return a list of b0 and b1. Call the function."
   ]
  },
  {
   "cell_type": "code",
   "execution_count": null,
   "metadata": {},
   "outputs": [],
   "source": [
    "# Calculate coefficients\n",
    "def coefficients(x,y):\n",
    "    x_mean, y_mean = # your_code \n",
    "    b = # your_code\n",
    "    a = # your_code\n",
    "    return [a, b]\n",
    "\n",
    "# calculate coefficients\n",
    "a, b = coefficients(x,y)\n",
    "print('Coefficients: a=%.3f, b=%.3f' % (a, b))"
   ]
  },
  {
   "cell_type": "markdown",
   "metadata": {},
   "source": [
    "** Expected Output: **  \n",
    "Coefficients: a=27.741, b=3.870"
   ]
  },
  {
   "cell_type": "markdown",
   "metadata": {},
   "source": [
    "Congratulations, you made it through the first tutorial of this course!  \n",
    "\n",
    "# Submitting your assignment\n",
    "\n",
    "Please rename your notebook and send it to machinelearning.dhc@gmail.com.  \n",
    "If you have a google account, you can also share your jupyter-file on Google Drive with this eMail address.\n",
    "\n",
    "Please rename the file to 1_LinRegTut_GROUP_lastname1_lastname2_lastname3.ipynb, and replace GROUP and \"lastnameX\" with your respective group and last names (+first name initial).\n",
    "\n",
    "e.g.:\n",
    "1_LinRegTut_LippertG_MontiR_FehrJ_DasP.ipynb\n",
    "\n",
    "As this is also the first time for us preparing this tutorial, you are welcome to give us feedback to help us improve this tutorial.  \n",
    "\n",
    "Thank you!  \n",
    "\n",
    "Jana & Remo"
   ]
  }
 ],
 "metadata": {
  "kernelspec": {
   "display_name": "Python 3",
   "language": "python",
   "name": "python3"
  },
  "language_info": {
   "codemirror_mode": {
    "name": "ipython",
    "version": 3
   },
   "file_extension": ".py",
   "mimetype": "text/x-python",
   "name": "python",
   "nbconvert_exporter": "python",
   "pygments_lexer": "ipython3",
   "version": "3.6.7"
  }
 },
 "nbformat": 4,
 "nbformat_minor": 2
}
