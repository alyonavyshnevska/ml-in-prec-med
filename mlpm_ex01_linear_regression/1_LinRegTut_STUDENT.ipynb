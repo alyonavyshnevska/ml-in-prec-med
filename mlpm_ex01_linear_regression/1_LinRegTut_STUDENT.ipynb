{
  "cells": [
    {
      "cell_type": "markdown",
      "metadata": {
        "pycharm": {}
      },
      "source": "# Intro  \nWelcome to your first programming exercise of this course.\nWe will investigate a diabetes-dataset and see if certain variables\nare associated with each other. In this tutorial, we want to test for\ntrue associations with linear regression.  \n\nDepending on the causal connections between two variables, $x$ and $y$, their true relationship may be linear or nonlinear. However, regardless of the true pattern of association, a linear model can always serve as a first approximation. In this case, the analysis is particularly simple,  \n$$y \u003d \\alpha + \\beta x + e$$ \nwhere $\\alpha$ is the y-intercept, $\\beta$ is the slope of the line (also known as the regression\ncoefficient), and e is the residual error. Letting  \n$$\\hat y \u003d \\alpha + \\beta x$$\nbe the value of $y$ predicted by the model, then the residual error is the deviation between the observed and predicted y value, i.e., $e \u003d  y - \\hat y$. When information on $x$ is used to predict $y$, $x$ is referred to as the predictor or independent variable and $y$ as the response or dependent variable.\n\nThe objective of linear regression analysis is to estimate the model parameters, $\\alpha$ and $\\beta$, that give the “best fit” for the joint distribution of $x$ and $y$. The true parameters $\\alpha$ and $\\beta$ are only obtainable if the entire population is sampled. With an incomplete sample, $\\alpha$ and $\\beta$ are approximated by sample estimators, denoted as $a$ and $b$. In real-world applications, there is often only a weak linear relationship between two variables which makes it difficult to say anything more precise. In order to infer the parameters of our model, an objective definition of “best fit” is required. The mathematical method of least-squares linear regression provides one such best-fit solution.\n\nFor this exercise you will need the pandas, matplotlib and numpy python packages.\n\nWe provide template code, which you will have to complete. The parts you will have to change are marked with `#your_code`\n\nThe ideas conveyed in this exercise, especially the connection between the covariance of two variables $Cov(x,y)$ and the regression coefficient $b$ are explained in more detail [here](http://nitro.biosci.arizona.edu/courses/EEB581-2006/handouts/bivdistrib.pdf)."
    },
    {
      "cell_type": "markdown",
      "metadata": {
        "pycharm": {}
      },
      "source": "## The Diabetes Dataset\n\nIn this exercise we will be working with the [Pima Indians Diabetes Database](https://www.kaggle.com/uciml/pima-indians-diabetes-database).\n\nThe dataset consists of 8 medical predictor variables and one target variable, which were gathered in order to predict diabetes outcome in a female population of the native American Pima-tribe (USA). The dataset was part of a kaggle competition.\n\nThe data is stored in a CSV-file. We use the pandas package to load the data. An introduction in to pandas can be found [here](https://pandas.pydata.org/pandas-docs/stable/getting_started/10min.html).\n"
    },
    {
      "cell_type": "code",
      "execution_count": 1,
      "metadata": {
        "pycharm": {
          "is_executing": false
        }
      },
      "outputs": [],
      "source": "# for data analysis and manipulation\nimport pandas as pd\n\n# for manipulation of graph and figures\nfrom matplotlib import pyplot as plt\n\n# access to square root function from mathematical library\nfrom math import sqrt\n\n#import assertion from numpy\nfrom numpy.testing import assert_almost_equal"
    },
    {
      "cell_type": "code",
      "execution_count": 2,
      "metadata": {
        "pycharm": {
          "is_executing": false
        }
      },
      "outputs": [],
      "source": "# this loads the data into a pandas DataFrame, \u0027./diabetes.csv\u0027 specifies the directory for the datafile\ndf \u003d pd.read_csv(\u0027./diabetes.csv\u0027)"
    },
    {
      "cell_type": "code",
      "execution_count": 3,
      "metadata": {
        "scrolled": true,
        "pycharm": {
          "is_executing": false
        }
      },
      "outputs": [
        {
          "data": {
            "text/plain": "   Pregnancies  Glucose  BloodPressure  SkinThickness  Insulin   BMI  \\\n0            6      148             72             35        0  33.6   \n1            1       85             66             29        0  26.6   \n2            8      183             64              0        0  23.3   \n3            1       89             66             23       94  28.1   \n4            0      137             40             35      168  43.1   \n\n   DiabetesPedigreeFunction  Age  Outcome  \n0                     0.627   50        1  \n1                     0.351   31        0  \n2                     0.672   32        1  \n3                     0.167   21        0  \n4                     2.288   33        1  ",
            "text/html": "\u003cdiv\u003e\n\u003cstyle scoped\u003e\n    .dataframe tbody tr th:only-of-type {\n        vertical-align: middle;\n    }\n\n    .dataframe tbody tr th {\n        vertical-align: top;\n    }\n\n    .dataframe thead th {\n        text-align: right;\n    }\n\u003c/style\u003e\n\u003ctable border\u003d\"1\" class\u003d\"dataframe\"\u003e\n  \u003cthead\u003e\n    \u003ctr style\u003d\"text-align: right;\"\u003e\n      \u003cth\u003e\u003c/th\u003e\n      \u003cth\u003ePregnancies\u003c/th\u003e\n      \u003cth\u003eGlucose\u003c/th\u003e\n      \u003cth\u003eBloodPressure\u003c/th\u003e\n      \u003cth\u003eSkinThickness\u003c/th\u003e\n      \u003cth\u003eInsulin\u003c/th\u003e\n      \u003cth\u003eBMI\u003c/th\u003e\n      \u003cth\u003eDiabetesPedigreeFunction\u003c/th\u003e\n      \u003cth\u003eAge\u003c/th\u003e\n      \u003cth\u003eOutcome\u003c/th\u003e\n    \u003c/tr\u003e\n  \u003c/thead\u003e\n  \u003ctbody\u003e\n    \u003ctr\u003e\n      \u003cth\u003e0\u003c/th\u003e\n      \u003ctd\u003e6\u003c/td\u003e\n      \u003ctd\u003e148\u003c/td\u003e\n      \u003ctd\u003e72\u003c/td\u003e\n      \u003ctd\u003e35\u003c/td\u003e\n      \u003ctd\u003e0\u003c/td\u003e\n      \u003ctd\u003e33.6\u003c/td\u003e\n      \u003ctd\u003e0.627\u003c/td\u003e\n      \u003ctd\u003e50\u003c/td\u003e\n      \u003ctd\u003e1\u003c/td\u003e\n    \u003c/tr\u003e\n    \u003ctr\u003e\n      \u003cth\u003e1\u003c/th\u003e\n      \u003ctd\u003e1\u003c/td\u003e\n      \u003ctd\u003e85\u003c/td\u003e\n      \u003ctd\u003e66\u003c/td\u003e\n      \u003ctd\u003e29\u003c/td\u003e\n      \u003ctd\u003e0\u003c/td\u003e\n      \u003ctd\u003e26.6\u003c/td\u003e\n      \u003ctd\u003e0.351\u003c/td\u003e\n      \u003ctd\u003e31\u003c/td\u003e\n      \u003ctd\u003e0\u003c/td\u003e\n    \u003c/tr\u003e\n    \u003ctr\u003e\n      \u003cth\u003e2\u003c/th\u003e\n      \u003ctd\u003e8\u003c/td\u003e\n      \u003ctd\u003e183\u003c/td\u003e\n      \u003ctd\u003e64\u003c/td\u003e\n      \u003ctd\u003e0\u003c/td\u003e\n      \u003ctd\u003e0\u003c/td\u003e\n      \u003ctd\u003e23.3\u003c/td\u003e\n      \u003ctd\u003e0.672\u003c/td\u003e\n      \u003ctd\u003e32\u003c/td\u003e\n      \u003ctd\u003e1\u003c/td\u003e\n    \u003c/tr\u003e\n    \u003ctr\u003e\n      \u003cth\u003e3\u003c/th\u003e\n      \u003ctd\u003e1\u003c/td\u003e\n      \u003ctd\u003e89\u003c/td\u003e\n      \u003ctd\u003e66\u003c/td\u003e\n      \u003ctd\u003e23\u003c/td\u003e\n      \u003ctd\u003e94\u003c/td\u003e\n      \u003ctd\u003e28.1\u003c/td\u003e\n      \u003ctd\u003e0.167\u003c/td\u003e\n      \u003ctd\u003e21\u003c/td\u003e\n      \u003ctd\u003e0\u003c/td\u003e\n    \u003c/tr\u003e\n    \u003ctr\u003e\n      \u003cth\u003e4\u003c/th\u003e\n      \u003ctd\u003e0\u003c/td\u003e\n      \u003ctd\u003e137\u003c/td\u003e\n      \u003ctd\u003e40\u003c/td\u003e\n      \u003ctd\u003e35\u003c/td\u003e\n      \u003ctd\u003e168\u003c/td\u003e\n      \u003ctd\u003e43.1\u003c/td\u003e\n      \u003ctd\u003e2.288\u003c/td\u003e\n      \u003ctd\u003e33\u003c/td\u003e\n      \u003ctd\u003e1\u003c/td\u003e\n    \u003c/tr\u003e\n  \u003c/tbody\u003e\n\u003c/table\u003e\n\u003c/div\u003e"
          },
          "metadata": {},
          "output_type": "execute_result",
          "execution_count": 3
        }
      ],
      "source": [
        "# this command shows the first rows of the table\n",
        "df.head()"
      ]
    },
    {
      "cell_type": "code",
      "execution_count": 6,
      "metadata": {
        "pycharm": {
          "is_executing": false
        }
      },
      "outputs": [],
      "source": "# in a jupyter-notebook, you can display the documentation for any function/method/object by propending a question mark:\n?plt.scatter"
    },
    {
      "cell_type": "code",
      "execution_count": 7,
      "metadata": {
        "pycharm": {
          "is_executing": false
        }
      },
      "outputs": [
        {
          "data": {
            "text/plain": "\u003cFigure size 432x288 with 1 Axes\u003e",
            "image/png": "iVBORw0KGgoAAAANSUhEUgAAAYkAAAEjCAYAAADHWv01AAAABHNCSVQICAgIfAhkiAAAAAlwSFlzAAALEgAACxIB0t1+/AAAADl0RVh0U29mdHdhcmUAbWF0cGxvdGxpYiB2ZXJzaW9uIDMuMC4yLCBodHRwOi8vbWF0cGxvdGxpYi5vcmcvOIA7rQAAIABJREFUeJzt3X+QHOV95/H3d0cjWMk2K4yOwIIQiX3SmShIZs/IJ9+dgcTCxoAOEwPBMXZRxx+XyxlCFIvEFYuEFPKRGMjdlesok8TEBMSvWwS4DD6EnYsrEK9YZFmAYmKEYPklG62wtQtarb73x3QvvbPdM92z0zs9M59X1ZZmen7ss8PQ336+z/d5HnN3RERE4vS0ugEiIlJcChIiIpJIQUJERBIpSIiISCIFCRERSaQgISIiiRQkRNqMmW00s28Gt5eY2S/MrNTqdklnUpCQwjOz3WY2HpwM95nZQ2Z2YuTxvzEzN7Pzq153Y3D8c8H9z5nZP+Tc1r8xs+vy/B1R7r7H3d/l7pNz9TuluyhISLs4193fBRwHvAb8j6rH/xn4bHjHzOYBnwb+Zc5aKNKBFCSkrbj7W8A9wAeqHnoA+IiZLQrunw38EHg1zfua2dfM7M+rjt1vZr8X3P6imY2Y2c/NbJeZnZXiPZcGPZnLzGyPmf3UzP4o8viHzGzIzN40s9fM7KvB8Y+a2UtV77XbzH69xu+YF9z/rpn9qZl9P2jrI2Z2TJrPQCSOgoS0FTNbAFwEPF710FvA/cDFwf3PArdleOs7gIvMzILfswj4GHCnmS0D/ivwb9393cBaYHeG9/4IsAw4C/hjM/s3wfGbgZvd/T3ArwB3ZXjPWn4L+Dzwr4D5wO836X2lCylISLsYNLNRYD/wG8ANMc+5DfismfUB/xEYzPD+/w9w4N8H9y8E/tHdXwYmgSOAD5hZ2d13u3uWNNa17j7u7tuB7cCpwfEJ4H1mdoy7/8LdqwNfo/7a3f/Z3cepBJ6VTXpf6UIKEtIu1rl7H3Aklav675nZL0Wf4O7/ACwG/gh4MDhJpuKVlS7vBC4JDv0WcHvw2HPAlcBG4HUzu9PMjs/Q9mjKawx4V3D7cuBfA8+a2Q/M7JMZ3rOR3yeSmYKEtBV3n3T3+6hc3X8k5infBK4mW6opdAdwoZmdBJwO3Bv5vX/n7h8BTqLS4/hKA+8/jbv/2N0voZIW+gpwj5ktBA4AC8LnBeWti2f7+0QaoSAhbcUqzgcWAc/EPOUvqaSj/j7re7v7MPBT4OvAw+4+GvzOZWZ2ppkdQWXsYxw43OCfMMXMPmNmi939MDAaHD5MpVLrSDM7x8zKwJeopLtE5pyChLSLB8zsF8CbwJ8Bl7n7zuonufsb7v6oN75Ryt8Bvx78GzoC2EQlgLxK5cr/mgbfP+psYGfwd90MXByMXewH/guVYDVCpWfxUvLbiOTHtOmQiIgkUU9CREQSKUiIiEgiBQkREUmkICEiIokUJEREJJGChIiIJFKQEBGRRAoSIiKSSEFCREQSKUiIiEgiBQkREUmkICEiIokUJEREJJGChIiIJFKQEBGRRAoSIiKSSEFCREQSzWt1A2bjmGOO8aVLl7a6GSIibWXbtm0/dffFaZ7b1kFi6dKlDA0NtboZIiJtxcxeSPtcpZtERCSRgoSIiCRSkBARkUQKEiIikkhBQkREErV1dZNIHgaHR7jh4V28PDrO8X29rF+7jHWr+lvdLJGWUJAQiRgcHuGa+3YwPjEJwMjoONfctwNAgUK6ktJNIhE3PLxrKkCExicmueHhXS1qkUhrKUiIRLw8Op7puEinU5AQiTi+rzfTcZFOpyAhErF+7TJ6y6Vpx3rLJdavXdaiFom0lgauRSLCwWlVN4lUKEiIVFm3ql9BQSSgdJOIiCRSkBARkUQKEiIikijXIGFmV5nZTjP7kZndYWZHmtnJZvaEmT1nZpvNbH7w3COC+88Fjy/Ns20iIlJfbkHCzPqB/wYMuPuvAiXgYuArwI3u/j5gH3B58JLLgX3B8RuD54mISAvlnW6aB/Sa2TxgAfAKcCZwT/D4N4B1we3zg/sEj59lZpZz+0REpIbcgoS7jwB/DuyhEhz2A9uAUXc/FDztJSCsNewHXgxeeyh4/nur39fMrjCzITMb2rt3b17NFxER8k03LaLSOzgZOB5YCJw92/d191vcfcDdBxYvXjzbtxMRkRryTDf9OvC8u+919wngPmAN0BeknwBOAEaC2yPAiQDB40cBP8uxfSIiUkeeQWIPsNrMFgRjC2cBTwOPARcGz7kMuD+4vSW4T/D4Vnf3HNsnIiJ15Dkm8QSVAegngR3B77oF+CLwe2b2HJUxh1uDl9wKvDc4/nvAhrzaJiIi6Vg7X6wPDAz40NBQq5shItJWzGybuw+kea5mXIuISCIFCRERSaQgISIiiRQkREQkkTYdEimIweER7YgnhaMgIVIAg8MjXHPfDsYnJgEYGR3nmvt2AChQSEsp3SRSADc8vGsqQITGJya54eFdLWqRSIWChEgBvDw6num4yFxRkBApgOP7ejMdF5krChIiBbB+7TJ6y6Vpx3rLJdavXdaiFolUaOBapADCwWlVN0nRKEiIFMS6Vf0KClI4SjeJiEgiBQkREUmkICEiIokUJEREJJGChIiIJFKQEBGRRAoSIiKSSPMkRKTwtIx66yhIiEihaRn11lK6SUQKTcuot5aChIgUmpZRby0FCREpNC2j3loKEiJSaFpGvbU0cC0ihaZl1FtLQUJECk/LqLeO0k0iIpJIQUJERBIpSIiISCIFCRERSaQgISIiiRQkREQkkYKEiIgkUpAQEZFEChIiIpJIQUJERBLlGiTMrM/M7jGzZ83sGTP7sJkdbWbfMbMfB/8uCp5rZvaXZvacmf3QzD6YZ9tERKS+vHsSNwPfdvflwKnAM8AG4FF3fz/waHAf4OPA+4OfK4Cv5dw26WKDwyOs2bSVkzc8xJpNWxkcHml1k0QKKbcgYWZHAf8BuBXA3Q+6+yhwPvCN4GnfANYFt88HbvOKx4E+Mzsur/ZJ9wq3wxwZHcd5ZztMBQqRmfLsSZwM7AX+2syGzezrZrYQONbdXwme8ypwbHC7H3gx8vqXgmMiTaXtMEXSyzNIzAM+CHzN3VcBB3gntQSAuzvgWd7UzK4wsyEzG9q7d2/TGivdQ9thiqSXZ5B4CXjJ3Z8I7t9DJWi8FqaRgn9fDx4fAU6MvP6E4Ng07n6Luw+4+8DixYtza7x0Lm2HKZJebkHC3V8FXjSzcI/Bs4CngS3AZcGxy4D7g9tbgM8GVU6rgf2RtJRI03T7dpgatJcs8t6Z7neB281sPvAT4PNUAtNdZnY58ALw6eC53wI+ATwHjAXPFWm6bt4OMxy0D8dkwkF7oCv+fsnOKsMC7WlgYMCHhoZa3QyRtrFm01ZGYsZe+vt6+f6GM1vQImkFM9vm7gNpnqsZ1yJdRIP2kpWChEgX0aC9ZKUgIdJFun3QXrLLe+BaRAqkmwftpTEKEiJdZt2qfgUFSU1BQiTB4PBI4a64i9gm6WwKEiIxijifYHB4hPV3b2fisE+1af3d21vaJul8GrgWiVHERQA3btk5FSBCE4edjVt2tqhF0g0UJERiFHE+wej4RKbjIs2gICESQ/MJRCoUJERiFHE+waIF5UzHRZpBQUIkxrpV/Vx/wQr6+3oxKmsbXX/BipYOEH/53FMol2zasXLJ+PK5p7SoRdINVN0kkqBo8wk0EU5aQUFCpI3kEbg090JqUZAQ6WJFnA8ixaIxCZEuVsT5IFIs6kmIVGlW+qUd0jhFnA8ixaIgIRLRrPRLu6Rxju/rjd2pTvNBJKR0k0hEs9Iv7ZLGKeJ8ECkW9SREIpqVfmlVGidriktltVKPgoRIRFL65ajebLOak96nx4zB4ZFcTsJxKa6rNj/F0AtvcN26FYmvK9p8ECkWpZtEItavXUa5x2YcP3DwEIPDI5nepzqNAzDpzjX37eBLgztYs2krJ294iDWbtmZ67yRxKS4Hbn98T1PeX7pT6iBhZiUzO97MloQ/eTZMpBXWrernXUfO7GBPTHqm8YRwWY+SzQw44xOT3P74HkZGx3HeGdSe7Yk8KZXlULixEGkfqYKEmf0u8BrwHeCh4OfBHNsl0jKjY/FLb2cdT1i3qp/D7rGPVR+tN6g9ODxSt+dRqyJJJa3SqLQ9iS8Ay9z9FHdfEfz8Wp4NE2mVZi4TnuU1SSfycKyhXs9j/dplzOy3ZG+HSFTaIPEisD/PhogURTPLQuPeK+uJPG057bpV/Vy6esmM91dJq8xG2uqmnwDfNbOHgLfDg+7+1VxaJdJCzSwLjXuvM5Yv5t5tI9NO/LVO5FnKaa9bt4KBk45WSas0TdogsSf4mR/8iHS0ZpaFxr1XlhN51lnRKmmVZkoVJNz92rwbItJNspzI169dNm3+AyiFJHOnZpAws5vc/Uoze4CZBRm4+3m5tUxEgOT0F8CaTVuVVpJc1etJ/G3w75/n3RARSVbd82iXBQSl/dUMEu6+Lfj3e3PTHBFJo1bFk4KENFO9dNMOYtJMIc2VEGkN7QMhc6VeuumTc9IKEclE+0DIXKk5mc7dX6j1M1eNFJHptA+EzJVUJbBm9nPeSTvNB8rAAXd/T14NE4H22AK0FbQPhMyVtPMk3h3eNjMDzgdW59UoEVAFTz2aNCdzIfN+El4xCKzNoT0iU9plC1CRTpY23XRB5G4PMAC8lfK1JWAIGHH3T5rZycCdwHuBbcBvu/tBMzsCuA04DfgZcJG77077h0jn6dQKHqXQpJ2k7UmcG/lZC/ycSsopjS8Az0TufwW40d3fB+wDLg+OXw7sC47fGDxPulgzl+wuirTLfosURaog4e6fj/z8Z3f/M3d/vd7rzOwE4Bzg68F9A84E7gme8g1gXXD7/OA+weNnBc+XLtXOFTxJmwQphSbtJm266b8D1wHjwLeBXwOucvdv1nnpTcAfAOHA93uBUXc/FNx/CQj72f1U9q3A3Q+Z2f7g+T+tassVwBUAS5ZoB9VOVqQKniwpoloD7p2aQpPOlXap8I+5+x+Y2X8CdgMXAH8PJAYJM/sk8Lq7bzOzj862oSF3vwW4BWBgYCBxNrh0hiJU8GStsqrVW9AkOGk3acckwmByDnC3u6fZpW4NcJ6Z7aYyUH0mcDPQZ2bh+50AhMnYEeBEgODxo6gMYIu0VNYUUa3eQjun0KQ7pQ0SD5rZs1Qqjx41s8XUqW5y92vc/QR3XwpcDGx190uBx4ALg6ddBtwf3N4S3Cd4fKt7wi7yIlWSxgCaIWuKqNaA+7pV/Vx/wQr6+3oxoL+vl+svWNHy3pJIkrST6TYE4xL73X3SzA6Qvrqp2heBO83sOmAYuDU4fivwt2b2HPAGlcAiUlfek+6ypojqbRJUhBTabKmMt3ukHZMAWA4sjaSKoDKvoS53/y7w3eD2T4APxTznLeA3M7RHBMh/2eysO8MVacA9D5oJ313SVjf9LfArwFNA+H+KkzJIiOQp74qhRk76ndBbSKK9LLpL2p7EAPABjRFIEaVNB80mRdLJJ/2sVMbbXdIOXP8I+KU8GyLSqDQVQ5rp3DydOBNekqUNEscAT5vZw2a2JfzJs2EiaaWpGNJM5+ZRGW93SZtu2phnI0Rmq146SCmS5un0gXmZLm0J7PfybohInlo907nTSkY1RtM9aqabzOznZvZmzM/PzezNuWqkyGy1MkWi8RBpZzV7EtEd6UTaWatSJIPDI1x913YmqwoDVTIq7cLauap1YGDAh4aGWt0M6TDNSg1VTzqL098BqSdpP2a2zd0H0jw3y4xrkVTaOf+eNJt46IU3eOzZvZn+priKqmrVs5XTfnbt/BlLe1GQkKZq9yUbkkplb398D2GfO+3flLZyKlqKm/TZhW17eXScvgVlfvHWISYOe6b2iDQi7TwJkVTafT5C0om9Oimb5m/KUjn18uh44me3ccvOaQPf+8YmpgJElvaINEJBQpqq3ecjZD2x1xJXUZW0H+/xfb2J7zc6PlE3bZWmPaE8l1WXzqMgIU3V7ks2xJ3Yk9T7m+Jmgl+6ekliKe5sP6M0r1c5rmSlMQlpqqzLahdNtFQ2bvJdKO3fFDfpbOCkoxMHnas/O2Nmqms27dEKrpKVgoQ0VScs2RCe2Nds2hobKEpmNXeTq1d5lDRbuTpA1QoQ5ZKxcP489o9PZPqM2z0dKHNPQUKarlOWbEjqFdULEGkqlJJO7PUCFMTPrQjHGeoF5lYvTyLtR0FCOkoz5w800iuqVaH09qHDqUuDk67sDfj+hjOnHctSdtzu6UCZewoS0jHymKMR1yuqFYhqVShVqzUWkOWKP8s4Q5rAp4l6EqUgIR1jLgZl4wLR+nu2s3HLTvaPT9BjNmOdplqSgsoZyxdPm8AHyVf8WccZaqUD230ypDSfgoS0reor3qQcfjMHZeMC0cSkT/UU4gJEb7nEkeUe9o3N7E3EbbF67QM7ZzzXgE+dFn9yb+Y4g6qfpJqChLSluCvepGqg4/t6m5ZCSRtwSmYcdp/6XTCzvDVpi9W4iXMOPPbs3tjfVWucYXB4hI1bdk4FsUULynz53FMS/3ZVP0k1BQlpS3FXvM7MeQW95RJnLF/ctBRKrR5L1GF3nt90zozj0V7CEfOmz2WttyBgrfRR+PpoEARYf/f2aUt47Bub4MrNTzH0whtct27FjPdS9ZNUU5CQtpA2teRUSkSjJ8tmplDirtrjJJ1U35o4PHV7dHxiWrCqd7Ve60QdN86wZtPWGWs8hW5/fA8DJx09q+onDXB3BwUJKbwsqaX+vt4ZJaJXbX4q9n0bSaFUX7VXr8gKySfVesGqVvBrpEy11t/nQXsaqX4CDXB3EwUJKbwsqaW4E2nfgnKqQeO0qq/a015R18v3J/VS+nrLbDwveRwhSb3UWCPVT6F6AU+9jM6hICGFV2v57urUUtwV7y/eOjTjteWSNW0CWdoZ5vXy/c1e0mT92mUzxiTifm8jagU89TI6i4KEFF7SyTUutVTthod3xZ4kF86fN+cnrHpVSNHgcONFK2fdvvD1f3jfDxmLjIWExg4eYnB4pKHfUyvgqYy2s2ipcCm8uOW70+bok65498fMgE5jNnsxxC0dfv0FlQqjvJbvXreqn6f/9OPcdNFK+nrL0x7bNzbR8O+p9d9EZbSdRT0JKbzZpGGaWdLZjDRKUhVS3lfe61b1c8PDu2YsD5L298SNMVx/wYrY/yZJy6wXsYxWYyf1KUhIW2h0ZdlmLmiXVxol6Qp7ZHS85squWU9wjV7hJwXH6y9YEZvua5dFBDV2ko7STdLR1q3q51On9VOyysahJbPE5S3qSXuSzZqSqnWFHU1Brb97+9R7NbLDXKO7BiYFx6vv2h77+5LSakU78bb7fuxzRT0J6WiDwyPcu21kak2lSXfu3TYSO5GsnjSpq7ir0ys3P8WVwVyNkhmXnH7itNnOaSfoTRx2Nm7ZOZXSydqrafQKPyk4TronXnm3w54iGjtJRz0J6WjNvFpMM4Beb2mNSXe++fgevjT4zkZEcVfeScIxhUZOcI1e4dfqabTzlXe778c+V9STkI7WzKvFNAPoad/3jidenNabqL7yXrrhoZqvb3RAvpEr/Ho9nUY+yyIMGLfL2EmrKUhIW6t3spltdVPc+9eam5F2AcB6e04sSpglvmhBpYw1bqJcuad5EwSj1q3qZ+iFN/jm43tiH8965V2UAeNO2I99LihISMs1elWZ5mQzm6vFRk5m69cu46rNT8WuKxUVDqSHv6f67//yuaew/p7tTExGgkDJ+PK5p0zdr54eF45Z1Gpf9d+X9nNPWqbcIHNgKtJku3YYO2k1BQlpqdlcVaY52czmajHLyax634Z6Ljn9xKnXxe10N6/HpgWI6n0grn1gJ5MxM8mrV5ZNEvd7rwoG2PszpNG8zu+JowHj9pJbkDCzE4HbgGOpfJducfebzexoYDOwFNgNfNrd95mZATcDnwDGgM+5+5N5tU+KYTZXlWlPNo1eLWYpea21RlJvuYe3Dx3msE+vbhocHuHqu7bPSD1NTPq0AAHv7ANxw8O7OGP54thUVCjN55e0aCLEB+paS6NkpT0r2kuePYlDwNXu/qSZvRvYZmbfAT4HPOrum8xsA7AB+CLwceD9wc/pwNeCf6WDzeaqMu+TTdL7H9VbnjbJ7cDbhxIDRNL6UuGVfJb9sKFyAk8aG4iq9/nVe7w60DRzkFcDxu0ltxJYd38l7Am4+8+BZ4B+4HzgG8HTvgGsC26fD9zmFY8DfWZ2XF7tk2JIU4aYNDltNms6RWV5/3KPceDgoWmT2GqlmEaCVVGr1SuVnS2HmhP50gTSaCBp5gS5dplsJxVzMiZhZkuBVcATwLHu/krw0KtU0lFQCSAvRl72UnDslcgxzOwK4AqAJUuW5NZmmRv1rirTjFk0Wp0SN45Q/f5DL7zBHU+8yKQ7JTPKJYtdUbWWKzc/xbUP7Jw2ppCmAmq2ao3vpJnAVx1ImjnIqwHj9pF7kDCzdwH3Ale6+5sWqepwdzezTP1td78FuAVgYGAgW19dCqfeib4ZlTBxVTxA4kkyOkGserb22ERjX7lwxVWo/M0ls8yppkYkfVbRzzcuYCn9IyHzHL+oZlYGHgQedvevBsd2AR9191eCdNJ33X2Zmf3v4PYd1c9Lev+BgQEfGhrKrf3SerUmld100crYXkg0dVHdEwmfc8S8npppIiN5R7vZyCM4hH9zUumtAc9vOif2tXGfjwGXrl4ybbJf9Ws0t6C9mdk2dx9I89zcxiSCaqVbgWfCABHYAlwW3L4MuD9y/LNWsRrYXytASHeIzieotnHLzthexrUPVOYKhNVDcc+pV6qaR4CA+pPosorm8xtZZiKpyilpXkQjCwtKe8sz3bQG+G1gh5mFO9H/IbAJuMvMLgdeAD4dPPYtKuWvz1Epgf18jm2TNlHrpJp0ot83NsGXBndMSxVl0Vsu8XaOg8rNUN1jgsaqhrKU+SalprTrXGfLLUi4+z9Q6bnGOSvm+Q78Tl7tkfbUn3KZi2rhYHMj8qw6ysJgWvoovB832Q3qj+/EpYmSeky1VraNo4lwnUszrqXQai1zsXB+iQMH409ctQJE9cm3iHrLJT51Wj+PPbs3U+4/qWooaWb35OTMT6Jcmr4GVJpyXU2E61xaKlwKbd2qfi5dvWRGl7S3XKJcSv76Jo1llMwKHyDM4FOn9XPduhWsX7uMo3rLU/tSLN3wECuvfSTzGEDciX5i0mes/wSwcP68TCvbqhKqsylISOFdt24FN160csbkq/01Bp8vOf3EGRPhAN7TO4++3nKOrZ0990rp7ZcGd7D+7u0zxl5Gxyem7VKXRpZ0UPXnWquXoIlwnS/XEti8qQS2O9UaRIXKYnjDf/yxxEX3Sj0Wuzhe0dQrl120oMyC+fNSpaPWbNqaemyneimRpDJiBYf2laUEVmMSUkhJtfj1BlF7y6Wp5bTDbT6rg0Q7BAioXy67b2xiatA5LEUdeuGN2HGMuP0n4sSljrTvQndTT0IKZ3B4JHYvhRsuPLVmD6Kvt8zG806ZdvI6ecNDhR+DSNJjMNt4Vu4xLvrQiTz27N7Ez61kxmH31Cd/TaZrf1l6EgoSUjir/uSRxF3ZRscmEk/6PVbJ50dPXFnSLEUTXWI8b0lltdWUeuoMhZhxLdKopJnO+8Ymag6iHnZmzAKOW8k1rZIZn1m9ZGrAfNGCMj3JE8Cb7q2Jw7znyLkZZE87c7rWWlrSmRQkpK2MHTyU6nnRWcDVy1KnddidgZOOBirBZ9/YxJxc1YeO7+tNvdNdM6Q52WtXudZLWto+LwoSUji1SlT3jU1QSnk5H5641q3q5/sbzuT5Teewfu2yxGUAZjBYf/f2lqSresslzli+OH1bm6Teyb6R9aGkeVqxdpaqm6RwPnnqcTV3X5s87Fgw/lBLeOKKDrT2ZJhM5w4TLRizC8cHbnh4V6ZB93KPcZjp1VulHqMHplU11ZpxHveZRZdXP/D2zJ6cJtPNnWYsnZ+VgoQUyuDwCPduq39VlObcPXbw0NRCf+H/WHOxh0MzJC1FUq26Mgne2SOiZJX5IO9ZUMa9MkkuaUvW0MjoOCuvfYQDBw9NVZeFS3jgzCihXbSgPG0zJclXK9J9ChLSctVX+s06ke8bm+D2x/e0XQlslvTWYffYvSKiFUj7xiboLZe48aKVqSq+4sZBJmLWeAJYML9yConu+a2S2Pzkva97HJXASssMDo9w7QM7c9m3oZuEM7Ojaaq4E0k4kzrNqq5Z9JZLKomdI80qQVYJrBRe+GVXgJi9sOcVDmIm9RKiA/nRiq/ZKJmpJHYOxVXr5R2QlW6Slkiz/HQ7MYN5PZaYlpkr4xOTiWs+RVMS0SXFG51wWN2DiMq7JLberO9OnhWetBx8XtSTkDkV1njXOynV2ra0iNwr1UVZ9ff1smhBcyfMTbrPmEBYqwIp64TD6BVs0ryTPHPk9cpAtcVqc3VdT6KTrzCKLm0uPMyxAk3LnS9aUObgocOJmxQ1w9hE3O4MtZ2xfDFAzZLfrPr7ejlj+eKp3flKZnzqtOSrz7gF/MYOHopNBVavEAsz/xvlXRJbrwy0FWWinayrgkTc7lzX3LcDQF+eOZA2xVR9QgtPXqSYG5FkNFjS48DBYs0Mvv3xPRzVxP0twkl40f29J925d9sIAycdXTNQVKdr0pz8W7FCbL0yUM0Kb66uChK6wmiupAlXSSeMtP+TRk9o0ZPXyRsearitx/f15nKSqLWFahpOfMlpyKwyA310bIK+YL5Dredff8GKzN/zWr3rNCf/uc6R1ysDbUWZaCfrqiChK4zmSdozOTrhqnqPg7SdgKQTWr2JYEnCK+Bay4w3aizH9FVo39jEtFVak8Z0wvGBetVNUfV610W8eFq/dlnNXk69xyWbrhq41rozzZO0Z3L1jNzxiUluf3xP5pNz3AmtkRVdS2ZTJYJ5nCTyrmUK02thEF557SOxn2WYZgpP8HHivuftuKprvTLQVpSJdrKu6knoCqN5svS+GjmRxp3QoimQtEHnLz59KvDOjOB2NjHpsakmozKO89ize2vu2Bdb4J2wAAALU0lEQVT3PU/6HIu+B0e9Xk5Re0HtqKuChLZhbJ5GUz9p1AvccYvM1dLM2cXN0oxd50IOU1uWJon2DqLf96Q5Fe1Wgiz56aogAbrCaJa4Xlmpx5qyf3R1aiAcWB0ZHa+5gmmcIk7aqzUJrVHhRU+9xfuqq/mS1slql4UQJX9dFySkOeJ6ZQfePpSYDqk+5SRdSff39U699+DwCBu37Jz2nllPXUVMm+QRtHrMOGP5Yjb/4MWas76riwL6EwJLvc2ZNN+oeyhISMOqe2VJJapOUMYZOdkndTjGDh5icHiEoRfeaMsVXFtl0p3NP3iRyRTLgkTTUmnG6aoDQjgPQ/ONuoOChDRNUrqjr7dM2hT3vrEJrtz8VJNb1jmSxhAgeTnvatVrOAHTVuM9Yt47RY9xJbJxwXt8YpKr79o+7T2lM3RVCazka/3aZbHrF7351kTXr/aaJkiu+ZWj667Metid3ZvOaXj11qSigLciS4qMjk9MrXUUN6aTFIom3bVGUgdSkJCmWbeqn/nzZn6lmlXF065uumglz18/c2Ogak/u2c8ZyxfXnLcTnVWcVsms5nyBWnMlspYNF32OhWSndJM0VZ4L6DVbrdRNs63ZtLXuc8KJh0ktqjeruFyyGVuMptmQptZKBEkpxFpVZu0+H0WmU09CWqqH4OTWAqt/eVHmGdxZLVpQrrkRULWkE284Ya7WrOIbLjyVG37z1MwzjWutRBA3y723XOLS1UsS51JoBYPOop6EtExfb5mN550C0PA8iNnY/bNxrr9gBVfftb3hHoUBfQvKvD0xOWOp8N5yCffmlLyGE+aikub8ZB04rlXhVGsC6sBJR2sFgy6gICFNVV3qGicuBRKdG1F9Qrpq81O5BI6R0fGp35s0K7u3XOKIeT2xf1P13gpJbU9SPamuXoDMK41TbyWCesFI8yU6m3kbz6wcGBjwoaGhVjdDIgaHR1h/9/YZC/2Fk+f6GziR1NrJrlyavmVo9f16wvbEzcsw4NLVSxKvmNOkclb9ySOJm/eEK9MmzT+o1tdbZuER83RCllkzs23uPpDmuepJSFOFJ63qmdKHfWYKI61avYmF8+fNOHFGa/7rCSeCHTGvZ8b7hyme69ZVdsnLesU8ODzCL96auc5UuWRTr69+j4GTjo5tf7nHOHDwnRntmsA2t7p5hrl6EpKLWnseVG9/mcbShNncBjy/aXp5adptUtOIe/+0kj6Dvt4yT335YzVfW31SyrKdqDRX0i597bz8uHoS0nLN3uApaY2hekuKh7+v0Uuh2VTqJP2t++uM2UD6JU9Ubpq/bt/RslA9CTM7G7gZKAFfd/dNtZ7fSE8i7op0d4NXit3uS4M7+Lsn9kxNliv3wMIjag9cN3OJbMmm3ANVBVipWMLe4uF/y3DZlXAf8bC6KZpyXDi/RLlUKQCIvl84WF9vrCq6EnA4v6WR8a1GnLzhodiLjNn0MlutLXsSZlYC/hfwG8BLwA/MbIu7P92s35GUsli64SEFioy+NLiDbz6+Z9qxicO1918GBYhWaiRAQHyAgHf+W0b/m4c76E1OOtFfV5lkOTnj/TzyuqQxlup0T1iuPFfjMt2+Z3aRJtN9CHjO3X/i7geBO4HzW9wmSXDHEy+2uglSUBNVASKtpCU9au0JMhfLgCRNKOyW+SBFChL9QPTM81JwbBozu8LMhsxsaO/evdUPyxzRpjSSh7gxlnrjLnmPy3T7ntmFSTel5e63ALdAZUyixc3pWnO57pF0j7gUTr0d9+Yi7dPNO1oWqScxApwYuX9CcEwK6JLTT6z/JOlK5ZI1dGJJSuHEpXvqvUaap0hB4gfA+83sZDObD1wMbGnmL0ganNagdXbXrVvBZ1YvIbp9RLmnUukCzFj8rWTGZ1Yv4dh3z5/LZkpEucH/25P2wgj/2/f1llm0oDxtocGvXrRy6rsAleqm8H70/cKbtVI40XQPvPPd6ra0T6sUrQT2E8BNVEpg/8rd/6zW8zWZTkQku7YsgQVw928B32p1O0REpKJI6SYRESkYBQkREUmkICEiIokUJEREJFGhqpuyMrO9wAsNvvwY4KdNbM5cacd2q81zpx3brTbPnbDdJ7n74jQvaOsgMRtmNpS2BKxI2rHdavPcacd2q81zp5F2K90kIiKJFCRERCRRNweJW1rdgAa1Y7vV5rnTju1Wm+dO5nZ37ZiEiIjU1809CRERqaMrg4SZnW1mu8zsOTPb0Or2xDGzvzKz183sR5FjR5vZd8zsx8G/i1rZxmpmdqKZPWZmT5vZTjP7QnC86O0+0sz+ycy2B+2+Njh+spk9EXxPNgerExeKmZXMbNjMHgzut0Obd5vZDjN7ysyGgmNF/470mdk9ZvasmT1jZh8ucpvNbFnw+YY/b5rZlY20ueuCRGQv7Y8DHwAuMbMPtLZVsf4GOLvq2AbgUXd/P/BocL9IDgFXu/sHgNXA7wSfbdHb/TZwprufCqwEzjaz1cBXgBvd/X3APuDyFrYxyReAZyL326HNAGe4+8pIOWbRvyM3A9929+XAqVQ+88K22d13BZ/vSuA0YAz4PzTSZnfvqh/gw8DDkfvXANe0ul0JbV0K/ChyfxdwXHD7OGBXq9tYp/33A7/RTu0GFgBPAqdTmXQ0L+57U4QfKhtzPQqcCTxIZXuGQrc5aNdu4JiqY4X9jgBHAc8TjOG2Q5ur2vkx4PuNtrnrehKk3Eu7oI5191eC268Cx7ayMbWY2VJgFfAEbdDuIG3zFPA68B3gX4BRdz8UPKWI35ObgD8ADgf330vx2wzgwCNmts3MrgiOFfk7cjKwF/jrILX3dTNbSLHbHHUxcEdwO3ObuzFIdASvXAoUsjTNzN4F3Atc6e5vRh8rarvdfdIrXfMTgA8By1vcpJrM7JPA6+6+rdVtacBH3P2DVFK+v2Nm/yH6YAG/I/OADwJfc/dVwAGq0jQFbDMAwZjUecDd1Y+lbXM3Bol23kv7NTM7DiD49/UWt2cGMytTCRC3u/t9weHCtzvk7qPAY1RSNX1mFm7MVbTvyRrgPDPbDdxJJeV0M8VuMwDuPhL8+zqVPPmHKPZ35CXgJXd/Irh/D5WgUeQ2hz4OPOnurwX3M7e5G4NE7ntp52gLcFlw+zIqOf/CMDMDbgWecfevRh4qersXm1lfcLuXyjjKM1SCxYXB0wrVbne/xt1PcPelVL7DW939UgrcZgAzW2hm7w5vU8mX/4gCf0fc/VXgRTNbFhw6C3iaArc54hLeSTVBI21u9aBKiwZyPgH8M5W88x+1uj0JbbwDeAWYoHIlczmVnPOjwI+B/wsc3ep2VrX5I1S6rz8Engp+PtEG7f41YDho94+APw6O/zLwT8BzVLrrR7S6rQnt/yjwYDu0OWjf9uBnZ/j/Xxt8R1YCQ8F3ZBBY1AZtXgj8DDgqcixzmzXjWkREEnVjuklERFJSkBARkUQKEiIikkhBQkREEilIiIhIIgUJkQaY2WSwuuZ2M3vSzP5dcHypmbmZXRd57jFmNmFm/zO4v9HMfr9VbRfJQkFCpDHjXlll81Qqi0ReH3nseeCcyP3fpDInQKTtKEiIzN57qCzLHRoDnjGzcBnsi4C75rxVIk0wr/5TRCRGb7Bq7JFUllw+s+rxO4GLzew1YBJ4GTh+bpsoMnsKEiKNGffKqrGY2YeB28zsVyOPfxv4U+A1YHML2ifSFEo3icySu/8jcAywOHLsILANuJrKqqEibUk9CZFZMrPlQInKYmoLIg/9BfA9d3+jskCuSPtRkBBpTDgmAZVtQy9z98loMHD3naiqSdqcVoEVEZFEGpMQEZFEChIiIpJIQUJERBIpSIiISCIFCRERSaQgISIiiRQkREQkkYKEiIgk+v84HTNA5rahGgAAAABJRU5ErkJggg\u003d\u003d\n"
          },
          "metadata": {
            "needs_background": "light"
          },
          "output_type": "display_data"
        }
      ],
      "source": [
        "# let\u0027s explore the dataset a little bit\n",
        "# for this exercise we are interested in the relationship between insulin and BMI.\n",
        "# For this we can produce a scatter-plot of BMI vs Insulin.\n",
        "# Try to explore other variables as well, using the plt.scatter function\n",
        "\n",
        "plt.scatter(df.BMI, df.Insulin)\n",
        "plt.xlabel(\u0027BMI\u0027)\n",
        "plt.ylabel(\u0027Insulin\u0027)\n",
        "plt.suptitle(\u0027BMI vs Insulin\u0027)\n",
        "plt.show()"
      ]
    },
    {
      "cell_type": "code",
      "execution_count": 8,
      "metadata": {
        "pycharm": {
          "is_executing": false
        }
      },
      "outputs": [
        {
          "data": {
            "text/plain": "\u003cFigure size 432x288 with 1 Axes\u003e",
            "image/png": "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\u003d\u003d\n"
          },
          "metadata": {
            "needs_background": "light"
          },
          "output_type": "display_data"
        }
      ],
      "source": [
        "# In the plot above, we can see that there are many datapoints which do not have a measurement for Insulin (Insulin \u003d\u003d 0).\n",
        "# We decide that we want to exclude these values. \n",
        "\n",
        "# There are also missing values for BMI (BMI \u003d\u003d 0), which we exclude as well.\n",
        "\n",
        "df \u003d df[df.Insulin\u003e0]\n",
        "df \u003d df[df.BMI\u003e0]\n",
        "plt.scatter(df.BMI, df.Insulin)\n",
        "plt.xlabel(\u0027BMI\u0027)\n",
        "plt.ylabel(\u0027Insulin\u0027)\n",
        "plt.suptitle(\u0027BMI vs Insulin\u0027)\n",
        "plt.show()"
      ]
    },
    {
      "cell_type": "markdown",
      "metadata": {
        "pycharm": {}
      },
      "source": [
        "# Step 1: Implementation using lists\n",
        "**Task 1.1:** Write functions to caluclate the mean and variance. Call those functions to calculate the mean and variance for BMI and Insulin.\n",
        "\n",
        "$$Mean, \\mu \u003d \\frac{\\sum x_i}{n} $$\n",
        "\n",
        "$$Variance, \\sigma ^{2} \u003d \\frac{\\sum (x - \\mu)^{2}}{n}$$"
      ]
    },
    {
      "cell_type": "code",
      "execution_count": 9,
      "metadata": {
        "pycharm": {
          "is_executing": false
        }
      },
      "outputs": [],
      "source": "# Calculate the mean value of a python list of numbers\n# def is used to define our own functions\n\ndef mean(values):\n    return sum(values)/len(values)\n\n# Calculate the variance of a list of numbers\ndef variance(values):\n    values_mean \u003d mean(values)\n    return sum([(x - values_mean)**2 for x in values]) / len(values)"
    },
    {
      "cell_type": "code",
      "execution_count": 10,
      "metadata": {
        "pycharm": {
          "is_executing": false
        }
      },
      "outputs": [],
      "source": "# we store our variables in lists\nx \u003d list(df.BMI)\ny \u003d list(df.Insulin)"
    },
    {
      "cell_type": "code",
      "execution_count": 11,
      "metadata": {
        "pycharm": {
          "is_executing": false
        }
      },
      "outputs": [
        {
          "name": "stdout",
          "text": [
            "x stats: mean\u003d33.073 variance\u003d49.210\ny stats: mean\u003d155.718 variance\u003d14096.406\nGood work!\n"
          ],
          "output_type": "stream"
        }
      ],
      "source": "# calculate mean and variance\n\nmean_x, mean_y \u003d mean(x),mean(y)\nvar_x, var_y \u003d variance(x),variance(y)\n\nprint(f\"x stats: mean\u003d{mean_x:.3f} variance\u003d{var_x:.3f}\")\nprint(f\"y stats: mean\u003d{mean_y:.3f} variance\u003d{var_y:.3f}\")\n\nassert_almost_equal(mean_x, 33.073, 3, \"mean_X is incorrect\")\nassert_almost_equal(var_x, 49.210, 3, \"var_x is incorrect\")\n\nassert_almost_equal(mean_y, 155.718, 3, \"mean_X is incorrect\")\nassert_almost_equal(var_y, 14096.406, 3, \"var_x is incorrect\")\nprint(\"Good work!\")\n"
    },
    {
      "cell_type": "markdown",
      "metadata": {
        "pycharm": {}
      },
      "source": [
        "**Expected output**:  \n",
        "x stats: mean \u003d 33.073 variance \u003d 49.210  \n",
        "y stats: mean \u003d 155.718 variance \u003d 14096.406"
      ]
    },
    {
      "cell_type": "markdown",
      "metadata": {
        "pycharm": {}
      },
      "source": "Now we want to investigate if the BMI and Insulin are somehow associated. We do this by calculating the covariance:\n\nThe covariance is a measure of association between x and y. It is positive if y increases with increasing x, negative if y decreases as x increases, and zero if there is no linear tendency for y to change with x. If x and y are independent, then σ(x,y) \u003d 0, \n\n$$Cov (x,y) \u003d \\frac{\\sum(x_{i}-\\bar{x})(y_{i}-\\bar{y})}{n} $$\n\n**Question 1.1:** Are two variables x, y always independent, if their covariance is 0? Write your answer in the field below by double-clicking."
    },
    {
      "cell_type": "raw",
      "metadata": {
        "pycharm": {}
      },
      "source": "No. The covariance of x and sin(x) will be 0,\ngiven a intervall thats a multiple of 2*pi.\nBut the relation between x and y can be described as y\u003dsin(x), thus \nthey are not independet of each other."
    },
    {
      "cell_type": "code",
      "execution_count": null,
      "outputs": [],
      "source": "import numpy as np\n\ntest \u003d np.arange(0,np.pi,0.0001)\ntest_sine \u003d np.sin(test)\ntest_cov \u003d covariance(test,test_sine)\nassert_almost_equal(test_cov,0, 3, \"Covariance does not match!\")\n",
      "metadata": {
        "pycharm": {
          "metadata": false,
          "name": "#%%\n"
        }
      }
    },
    {
      "cell_type": "code",
      "execution_count": 17,
      "metadata": {
        "pycharm": {
          "is_executing": false
        }
      },
      "outputs": [
        {
          "name": "stdout",
          "text": [
            "Covariance: 189.938\nGood job!\n"
          ],
          "output_type": "stream"
        }
      ],
      "source": "# Calculate covariance between x and y\ndef covariance(x, y):\n    covar \u003d 0.0\n    mean_x \u003d mean(x)\n    mean_y \u003d mean(y)\n    for i,j in zip(x,y):\n        covar +\u003d (i-mean_x) * (j-mean_y)\n    return covar / float(len(x))\n\ncovar \u003d covariance(x, y)\nprint(\u0027Covariance: %.3f\u0027 % (covar))\nassert_almost_equal(covar,189.938, 3, \"Covariance does not match!\")\nprint(\"Good job!\")\n"
    },
    {
      "cell_type": "markdown",
      "metadata": {
        "pycharm": {}
      },
      "source": "**Expected output**:  \nCovariance: 189.938"
    },
    {
      "cell_type": "markdown",
      "metadata": {
        "pycharm": {}
      },
      "source": "Now we want to find coefficients for a line, that predicts our observations best.  \n\nTo find the \u0027best fit\u0027 of coefficients for this predictor, we calculate the least-squares linear regression. The least-squares solution yields the values of $a$ and $b$ that minimize the mean squared residual. The formula is the following:\n\n$$a \u003d \\bar y − b * \\bar x $$\n\n$$b \u003d Cov(x, y) / Var(x)$$\n\nThus, the least-squares estimators for the intercept and slope of a linear regression are simple functions of the observed means, variances, and covariances.   \n \n**Task 1.2:** Write a function that calculates the model parameters. Call this function to calculate the coefficients $a$ and $b$ for our linear model to predict the Insulin-level from a BMI observation."
    },
    {
      "cell_type": "code",
      "execution_count": 19,
      "metadata": {
        "pycharm": {
          "is_executing": false
        }
      },
      "outputs": [
        {
          "name": "stdout",
          "text": [
            "Coefficients: a\u003d28.067, b\u003d3.860\ngood job\n"
          ],
          "output_type": "stream"
        }
      ],
      "source": "# Calculate coefficients a and b\ndef coefficients(x, y):\n    mean_x \u003d mean(x)\n    mean_y \u003d mean(y)\n    b \u003d covariance(x,y) / variance(x)\n    a \u003d mean_y - b * mean_x \n    return a,b\n\na, b \u003d coefficients(x,y)\nprint(\u0027Coefficients: a\u003d%.3f, b\u003d%.3f\u0027 % (a, b))\nassert_almost_equal(a, 28.067, 3, \"coefficient a was not corret\")\nassert_almost_equal(b, 3.860, 3, \"coefficient b was not corret\")\nprint(\"good job\")"
    },
    {
      "cell_type": "markdown",
      "metadata": {
        "pycharm": {}
      },
      "source": [
        "**Expected output:**  \n",
        "Coefficients: a\u003d28.067, b\u003d3.860"
      ]
    },
    {
      "cell_type": "markdown",
      "metadata": {
        "pycharm": {}
      },
      "source": [
        "Now that we predicited the coefficients for our \u0027best fit\u0027 linear regression model, we need to test it by predicting Insulin-levels from observing BMIs. In other words, if we have a measurement of the BMI, how well can we predict the Insulin level with our model?\n",
        "\n",
        "To do this, we take our linear regression function, insert our estimated coefficients, and calculate y for each observation x. \n",
        "\n",
        "$$\\hat y \u003d a + b * x$$\n",
        "\n",
        "\n",
        "**Task 1.3:** Write a function that predicts y from x. Call this function with x and y.\n"
      ]
    },
    {
      "cell_type": "code",
      "execution_count": 21,
      "metadata": {
        "pycharm": {
          "is_executing": false
        }
      },
      "outputs": [
        {
          "data": {
            "text/plain": "[136.52498939744578,\n 194.4208994895847,\n 147.71819868192597,\n 145.78833501218799,\n 144.2444440763976,\n 127.64761651665111,\n 204.8421633061697,\n 195.19284495747985,\n 161.61321710403928,\n 179.75393559957615,\n 169.33267178299116,\n 148.10417141587357,\n 117.6123254340137,\n 113.75259809453776,\n 150.0340350856115,\n 123.78788917717519,\n 120.70010730559444,\n 171.26253545272914,\n 159.29738070035376,\n 203.29827237037932,\n 102.94536154400515,\n 121.47205277348962,\n 122.2439982413848,\n 158.13946249851097,\n 161.99918983798688,\n 173.57837185641466,\n 208.70189064564562,\n 188.24533574642322,\n 126.10372558086074,\n 103.71730701190036,\n 139.6127712690265,\n 155.0516806269302,\n 138.4548530671837,\n 163.54308077377726,\n 141.15666220481688,\n 153.12181695719227,\n 176.66615372799544,\n 171.26253545272914,\n 151.57792602140188,\n 208.31591791169808,\n 123.40191644322759,\n 158.91140796640616,\n 106.80508888348109,\n 138.8408258011313,\n 219.89509993012587,\n 130.73539838823186,\n 138.8408258011313,\n 141.92860767271205,\n 160.4552989021965,\n 172.42045365457187,\n 156.59557156272058,\n 159.29738070035376,\n 148.49014414982113,\n 145.78833501218799,\n 117.6123254340137,\n 233.40414561829158,\n 157.75348976456337,\n 240.35165482934826,\n 193.64895402168952,\n 156.59557156272058,\n 161.22724437009168,\n 142.70055314060724,\n 161.22724437009168,\n 109.50689802111425,\n 158.52543523245856,\n 146.94625321403078,\n 138.8408258011313,\n 170.49058998483395,\n 153.50778969113986,\n 154.6657078929826,\n 145.78833501218799,\n 172.42045365457187,\n 160.4552989021965,\n 184.7715811408949,\n 123.01594370928001,\n 125.33178011296555,\n 139.9987440029741,\n 185.92949934273764,\n 171.64850818667674,\n 198.66659956300822,\n 143.4724986085024,\n 137.6829075992885,\n 164.70099897562005,\n 195.9647904253751,\n 142.70055314060724,\n 154.27973515903506,\n 287.054355637007,\n 162.77113530588207,\n 134.9810984616554,\n 144.2444440763976,\n 151.57792602140188,\n 135.75304392955056,\n 150.0340350856115,\n 155.8236260948254,\n 180.13990833352375,\n 116.45440723217091,\n 162.38516257193447,\n 147.33222594797834,\n 106.80508888348109,\n 173.57837185641466,\n 172.80642638851947,\n 156.20959882877298,\n 192.49103581984673,\n 160.06932616824895,\n 189.40325394826596,\n 166.24488991141038,\n 143.85847134245,\n 161.61321710403928,\n 139.2267985350789,\n 119.15621636980407,\n 161.61321710403928,\n 169.71864451693875,\n 202.5263269024842,\n 206.3860542419601,\n 126.10372558086074,\n 142.70055314060724,\n 166.63086264535798,\n 155.8236260948254,\n 132.6652620579698,\n 175.50823552615265,\n 229.93039101276327,\n 164.70099897562005,\n 122.2439982413848,\n 134.5951257277078,\n 128.0335892505987,\n 156.59557156272058,\n 147.33222594797834,\n 157.75348976456337,\n 125.33178011296555,\n 156.20959882877298,\n 184.38560840694726,\n 135.367071195603,\n 125.71775284691316,\n 166.63086264535798,\n 153.12181695719227,\n 128.4195619845463,\n 177.43809919589063,\n 204.07021783827452,\n 108.34897981927146,\n 167.40280811325317,\n 170.49058998483395,\n 169.33267178299116,\n 195.19284495747985,\n 184.38560840694726,\n 165.08697170956765,\n 136.13901666349815,\n 146.56028048008318,\n 169.33267178299116,\n 150.0340350856115,\n 166.24488991141038,\n 181.29782653536654,\n 126.48969831480834,\n 123.78788917717519,\n 145.78833501218799,\n 155.0516806269302,\n 180.13990833352375,\n 130.73539838823186,\n 141.92860767271205,\n 159.68335343430135,\n 102.55938881005757,\n 175.12226279220505,\n 134.2091529937602,\n 131.50734385612705,\n 126.87567104875593,\n 163.54308077377726,\n 203.68424510432692,\n 146.94625321403078,\n 154.27973515903506,\n 120.31413457164685,\n 212.94759071906918,\n 160.06932616824895,\n 128.0335892505987,\n 128.0335892505987,\n 176.66615372799544,\n 138.8408258011313,\n 112.2087071587474,\n 133.0512347919174,\n 156.59557156272058,\n 164.31502624167246,\n 168.94669904904356,\n 148.49014414982113,\n 162.77113530588207,\n 159.29738070035376,\n 134.2091529937602,\n 154.6657078929826,\n 176.28018099404784,\n 166.24488991141038,\n 162.77113530588207,\n 167.78878084720077,\n 179.3679628656286,\n 125.33178011296555,\n 171.64850818667674,\n 195.5788176914275,\n 146.94625321403078,\n 126.10372558086074,\n 124.94580737901796,\n 121.85802550743722,\n 114.13857082848536,\n 151.57792602140188,\n 150.0340350856115,\n 151.57792602140188,\n 119.54218910375165,\n 113.36662536059018,\n 134.9810984616554,\n 123.40191644322759,\n 163.15710803982967,\n 190.5611721501088,\n 191.71909035195154,\n 160.84127163614409,\n 191.71909035195154,\n 129.1915074524415,\n 161.61321710403928,\n 165.85891717746284,\n 129.96345292033666,\n 202.91229963643173,\n 128.4195619845463,\n 184.7715811408949,\n 193.64895402168952,\n 170.87656271878154,\n 159.68335343430135,\n 184.7715811408949,\n 163.15710803982967,\n 145.4023622782404,\n 143.85847134245,\n 152.34987148929707,\n 156.20959882877298,\n 257.33445512304235,\n 125.71775284691316,\n 168.94669904904356,\n 157.75348976456337,\n 145.78833501218799,\n 109.89287075506184,\n 182.06977200326173,\n 173.96434459036226,\n 144.6304168103452,\n 173.19239912246707,\n 128.0335892505987,\n 108.34897981927146,\n 164.31502624167246,\n 112.2087071587474,\n 135.367071195603,\n 170.10461725088635,\n 206.0000815080125,\n 158.13946249851097,\n 119.92816183769925,\n 128.0335892505987,\n 165.08697170956765,\n 135.367071195603,\n 175.50823552615265,\n 191.33311761800394,\n 185.1575538748425,\n 207.5439724438029,\n 170.10461725088635,\n 139.6127712690265,\n 144.2444440763976,\n 124.94580737901796,\n 141.15666220481688,\n 125.33178011296555,\n 156.59557156272058,\n 168.94669904904356,\n 138.4548530671837,\n 145.4023622782404,\n 113.36662536059018,\n 126.87567104875593,\n 150.0340350856115,\n 145.0163895442928,\n 103.71730701190036,\n 124.55983464507037,\n 156.20959882877298,\n 98.31368873663405,\n 129.5774801863891,\n 146.94625321403078,\n 143.08652587455484,\n 187.47339027852803,\n 156.59557156272058,\n 168.17475358114837,\n 168.56072631509596,\n 180.13990833352375,\n 153.12181695719227,\n 180.52588106747135,\n 151.57792602140188,\n 161.22724437009168,\n 196.3507631593227,\n 155.8236260948254,\n 154.6657078929826,\n 151.19195328745428,\n 143.4724986085024,\n 170.49058998483395,\n 126.48969831480834,\n 187.47339027852803,\n 173.19239912246707,\n 131.89331659007462,\n 128.8055347184939,\n 177.05212646194303,\n 151.57792602140188,\n 148.87611688376873,\n 160.4552989021965,\n 141.92860767271205,\n 161.99918983798688,\n 144.2444440763976,\n 165.08697170956765,\n 120.70010730559444,\n 138.8408258011313,\n 156.59557156272058,\n 180.13990833352375,\n 138.0688803332361,\n 157.75348976456337,\n 151.57792602140188,\n 135.367071195603,\n 117.2263527000661,\n 163.92905350772486,\n 182.45574473720933,\n 103.33133427795275,\n 188.24533574642322,\n 120.70010730559444,\n 147.33222594797834,\n 155.0516806269302,\n 175.50823552615265,\n 167.40280811325317,\n 105.64717068163831,\n 176.28018099404784,\n 195.9647904253751,\n 173.57837185641466,\n 161.22724437009168,\n 134.2091529937602,\n 150.0340350856115,\n 185.92949934273764,\n 103.33133427795275,\n 141.15666220481688,\n 134.5951257277078,\n 180.13990833352375,\n 118.38427090190888,\n 173.96434459036226,\n 137.29693486534094,\n 125.33178011296555,\n 158.52543523245856,\n 159.68335343430135,\n 160.06932616824895,\n 177.43809919589063,\n 112.2087071587474,\n 178.21004466378577,\n 160.06932616824895,\n 173.19239912246707,\n 174.35031732430986,\n 162.38516257193447,\n 159.29738070035376,\n 147.33222594797834,\n 157.75348976456337,\n 165.08697170956765,\n 249.22902771014287,\n 121.47205277348962,\n 121.47205277348962,\n 200.2104904987986,\n 156.20959882877298,\n 121.08608003954204,\n 206.0000815080125,\n 178.98199013168096,\n 176.66615372799544,\n 145.4023622782404,\n 143.4724986085024,\n 161.22724437009168,\n 166.63086264535798,\n 137.6829075992885,\n 160.84127163614409,\n 174.73629005825745,\n 148.49014414982113,\n 142.31458040665967,\n 129.96345292033666,\n 158.91140796640616,\n 158.52543523245856,\n 165.08697170956765,\n 175.12226279220505,\n 141.15666220481688,\n 178.98199013168096,\n 167.40280811325317,\n 137.6829075992885,\n 199.824517764851,\n 139.9987440029741,\n 133.8231802598126,\n 169.33267178299116,\n 191.33311761800394,\n 146.94625321403078,\n 138.0688803332361,\n 184.7715811408949,\n 143.85847134245,\n 206.7720269759077,\n 168.56072631509596,\n 178.59601739773336,\n 195.19284495747985,\n 168.94669904904356,\n 137.6829075992885,\n 155.0516806269302,\n 129.1915074524415]"
          },
          "metadata": {},
          "output_type": "execute_result",
          "execution_count": 21
        }
      ],
      "source": "# Make predictions\ndef simple_linear_regression(x, y):\n    predictions \u003d []\n    a, b \u003d coefficients(x, y)\n    for i in x:\n        yhat \u003d a+b*i\n        predictions.append(yhat)\n    return predictions\n\npredictions \u003d simple_linear_regression(x,y)\npredictions"
    },
    {
      "cell_type": "markdown",
      "metadata": {
        "pycharm": {}
      },
      "source": [
        "To evaluate our predictions, we look at the difference between the Insulin level, that our model predicts and the true Insulin level and calculate the root mean squared error (rmse).\n",
        "\n",
        "$$ RMSE \u003d \\sqrt{\\frac{\\sum (\\hat{y_{i}}-y_{i})^2}{n}} $$\n",
        "\n",
        "**Task 1.4:** Write a function that calculates the root mean squared  error, between the true and predicted value. "
      ]
    },
    {
      "cell_type": "code",
      "execution_count": 23,
      "metadata": {
        "pycharm": {
          "is_executing": false
        }
      },
      "outputs": [
        {
          "name": "stdout",
          "text": [
            "RMSE: 115.600\n"
          ],
          "output_type": "stream"
        }
      ],
      "source": " \n# Calculate root mean squared error\ndef rmse_metric(actual, predicted):\n    assert len(actual) \u003d\u003d len(predicted), \"Actual and prediction must be the same length!\"\n    sum_error \u003d sum([(p-a)**2 for p,a in zip(predicted,actual)])\n    mean_error \u003d sum_error / len(actual)\n    return sqrt(mean_error)\n\n\n# Evaluate regression algorithm on training dataset\ndef evaluate_algorithm(x, y, algorithm):\n    predicted \u003d simple_linear_regression(x,y)\n    rmse \u003d rmse_metric(y,predicted)\n    return rmse\n\nrmse \u003d evaluate_algorithm(x, y, simple_linear_regression)\nprint(\u0027RMSE: %.3f\u0027 % (rmse))\nassert_almost_equal(rmse, 115.600, 3, \"RMSE does not match!\")"
    },
    {
      "cell_type": "markdown",
      "metadata": {
        "pycharm": {}
      },
      "source": [
        "**Expected output: **   \n",
        "RMSE: 115.600"
      ]
    },
    {
      "cell_type": "markdown",
      "metadata": {
        "pycharm": {}
      },
      "source": [
        "Let\u0027s plot our results with the pyplot package from matplotlib:  "
      ]
    },
    {
      "cell_type": "code",
      "execution_count": 24,
      "metadata": {
        "pycharm": {
          "is_executing": false
        }
      },
      "outputs": [
        {
          "data": {
            "text/plain": "[\u003cmatplotlib.lines.Line2D at 0x7f9317aee320\u003e]"
          },
          "metadata": {},
          "output_type": "execute_result",
          "execution_count": 24
        },
        {
          "data": {
            "text/plain": "\u003cFigure size 432x288 with 1 Axes\u003e",
            "image/png": "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\u003d\u003d\n"
          },
          "metadata": {
            "needs_background": "light"
          },
          "output_type": "display_data"
        }
      ],
      "source": [
        "plt.scatter(x, y, color\u003d\u0027black\u0027)\n",
        "plt.xlabel(\u0027BMI\u0027)\n",
        "plt.ylabel(\u0027Insulin\u0027)\n",
        "plt.suptitle(\u0027RMSE\u0027)\n",
        "plt.plot(x, predictions, color\u003d\u0027blue\u0027, linewidth\u003d3)\n"
      ]
    },
    {
      "cell_type": "markdown",
      "metadata": {
        "pycharm": {}
      },
      "source": [
        "# Discussion:  \n",
        "1) What can you say about the association between BMI and Insulin?  \n",
        "2) Is BMI a good predictor for Insulin?  \n",
        "3) What would be your next steps to improve the prediction for Insulin?  \n",
        "\n",
        "**Task 1.5:** Write your answers in the cell below"
      ]
    },
    {
      "cell_type": "code",
      "metadata": {
        "pycharm": {
          "name": "#%%\n",
          "is_executing": false
        }
      },
      "source": "covariance(x,y)/(sqrt(var_x)*sqrt(var_y))\n",
      "execution_count": 64,
      "outputs": [
        {
          "data": {
            "text/plain": "0.052272553938521614"
          },
          "metadata": {},
          "output_type": "execute_result",
          "execution_count": 64
        }
      ]
    },
    {
      "cell_type": "code",
      "execution_count": 28,
      "outputs": [
        {
          "data": {
            "text/plain": "0.05200687429772286"
          },
          "metadata": {},
          "output_type": "execute_result",
          "execution_count": 28
        }
      ],
      "source": "def sum_squared_totals(y):\n    mean_y\u003dmean(y)\n    return sum([(i-mean_y)**2 for i in y])\n\ndef sum_squared_error(x,y,algorithm):\n    mean_y\u003dmean(y)\n    predicted \u003d simple_linear_regression(x,y)\n    return sum([(p-mean_y)**2 for p in predicted])\n\ndef r2(x,y,algorithm):\n    return sum_squared_error(x,y,algorithm)/sum_squared_totals(y)\n\nr2(x,y,simple_linear_regression)",
      "metadata": {
        "pycharm": {
          "metadata": false,
          "name": "#%%\n",
          "is_executing": false
        }
      }
    },
    {
      "cell_type": "markdown",
      "source": "1. \nWe can calculate the correlation coeffient using the following formular:\n\n````python\ncovariance(x,y)/(sqrt(var_x)*sqrt(var_y))\n````\nThe result shows, that the correlation between bmi and insulin is `0.22` and well below `0.8`.\nThis leads to the conclusion that they are not associated.\n2. Therefore BMI is a bad indicator oder predictor for Insulin.\n3. Go back to the original dataset and try other features or combinations of them.\n\n",
      "metadata": {
        "pycharm": {
          "metadata": false,
          "name": "#%% md\n"
        }
      }
    },
    {
      "cell_type": "markdown",
      "metadata": {
        "pycharm": {}
      },
      "source": "# Step 2: Implementation using numpy\n\nWorking with lists required us to write a lot of code. Python can save you from all this work, if you are familiar with the numpy package.\nIf you are not familiar with numpy yet. We recommend to browse through the documentation page at https://www.numpy.org and also work through the provided tutorial there.  "
    },
    {
      "cell_type": "code",
      "execution_count": 29,
      "metadata": {
        "pycharm": {
          "is_executing": false
        }
      },
      "outputs": [],
      "source": [
        "# First we need to import the numpy package\n",
        "import numpy as np\n",
        "\n",
        "# The \u0027as np\u0027 notion is optional, but it is helpful because we can use the np abbreviation \n",
        "# when we call functions from the numpy module. "
      ]
    },
    {
      "cell_type": "markdown",
      "metadata": {
        "pycharm": {}
      },
      "source": [
        "**Task 2.1:**  \n",
        "1) Define x and y. This time, we do not have to convert them into lists. They can keep it as arrays.  \n",
        "2) Calculate the mean and variance for x and y, using numpy functions. "
      ]
    },
    {
      "cell_type": "code",
      "execution_count": 45,
      "metadata": {
        "pycharm": {
          "is_executing": false
        }
      },
      "outputs": [
        {
          "name": "stdout",
          "text": [
            "x stats: mean\u003d33.073 variance\u003d49.210\ny stats: mean\u003d155.718 variance\u003d14096.406\ncorrect\n"
          ],
          "output_type": "stream"
        }
      ],
      "source": "# calculate mean and variance\nmean_x \u003d df.BMI.mean()\nmean_y \u003d df.Insulin.mean()\nvar_x \u003d df.BMI.var(ddof\u003d0)#pandas uses empirical variance (`ddof\u003d0`) by default. Set degrees of freedom to 0 to trigger statisticians. ;)\n#var_x \u003d np.var(df.BMI)\n\nvar_y \u003d df.Insulin.var(ddof\u003d0)\n#var_y \u003d np.var(df.Insulin)\n\nprint(\u0027x stats: mean\u003d%.3f variance\u003d%.3f\u0027 % (mean_x, var_x))\nprint(\u0027y stats: mean\u003d%.3f variance\u003d%.3f\u0027 % (mean_y, var_y))\n\nassert_almost_equal(mean_x, 33.073, 3, \"mean_X is incorrect\")\nassert_almost_equal(var_x, 49.210, 3, \"var_x is incorrect\")\n\nassert_almost_equal(mean_y, 155.718, 3, \"mean_X is incorrect\")\nassert_almost_equal(var_y, 14096.406, 3, \"var_x is incorrect\")\nprint(\"correct\")"
    },
    {
      "cell_type": "markdown",
      "metadata": {
        "pycharm": {}
      },
      "source": [
        "**Expected output:  **  \n",
        "x stats: mean\u003d33.073 variance\u003d49.210  \n",
        "y stats: mean\u003d155.718 variance\u003d14096.406"
      ]
    },
    {
      "cell_type": "markdown",
      "metadata": {
        "pycharm": {}
      },
      "source": "**Task 2.2:** Now rewrite the covariance() function and call the numpy-covariance function within. The numpy-covariance function returns a covariance matrix (2x2) with 4 values. \n\n**Question 2.1:** Which values does the covariance matrix represent? Which ones are the actual covariance?\nWhat are the other values? Write your anser in the cell below."
    },
    {
      "cell_type": "markdown",
      "metadata": {
        "pycharm": {
          "name": "#%% md\n"
        }
      },
      "source": "The covariance matrix of $x$ and $y$ has the following form:\n\n$\\newcommand{\\Var}{\\mathrm{Var}}$\n$\\newcommand{\\Cov}{\\mathrm{Cov}}$\n\\begin{matrix} \n\\Cov(x,x) \u003d \\Var(x) \u0026 \\Cov(x,y) \\\\\n\\Cov(y,x) \u0026 \\Cov(y,y) \u003d \\Var(y)\n\\end{matrix}\n"
    },
    {
      "cell_type": "markdown",
      "metadata": {
        "pycharm": {}
      },
      "source": [
        "Now, calculate the covariance, using the numpy function cov(). The function returns a covariance matrix, and you need to index the covariance value within the matrix. \n",
        "So, for the covariance() function, index one covariance value and return it. "
      ]
    },
    {
      "cell_type": "code",
      "execution_count": 60,
      "metadata": {
        "pycharm": {
          "is_executing": false
        }
      },
      "outputs": [
        {
          "name": "stdout",
          "text": [
            "190.42283065898113\ngood\n"
          ],
          "output_type": "stream"
        }
      ],
      "source": "# calculate covariance\ndef covariance(x,y):\n    cov_m \u003d np.cov(x,y)\n    covar \u003d cov_m[1,0]\n    covar2 \u003d cov_m[0,1]\n    #might break due to float or not, dunno\n    assert covar \u003d\u003d covar2, \"covariances do not match\"\n    return covar\n\ncov \u003d covariance(x,y)\nprint(cov)\n#expected output is either rounded, or we got some floating point inaccuracy ; either way just use 13 digits after the point\nassert_almost_equal(cov,190.42283065898116,13,\"cov does not match\")\nprint(\"good\")"
    },
    {
      "cell_type": "markdown",
      "metadata": {
        "pycharm": {}
      },
      "source": [
        "** Expected output: **  \n",
        "190.42283065898116"
      ]
    },
    {
      "cell_type": "markdown",
      "metadata": {
        "pycharm": {}
      },
      "source": [
        "**Task 2.3:** Now, write a coefficients() function to calculate the coefficients b0 and b1 by using numpy functions. \n",
        "Return a list of b0 and b1. Call the function."
      ]
    },
    {
      "cell_type": "code",
      "execution_count": 63,
      "metadata": {
        "pycharm": {
          "is_executing": false
        }
      },
      "outputs": [
        {
          "name": "stdout",
          "text": [
            "Coefficients: a\u003d28.067, b\u003d3.860\n"
          ],
          "output_type": "stream"
        }
      ],
      "source": "# Calculate coefficients\ndef coefficients(x,y):\n    fit \u003d np.polyfit(x,y,1)#use numpy\n    return [fit[1], fit[0]]\n\n# calculate coefficients\na, b \u003d coefficients(x,y)\nprint(\u0027Coefficients: a\u003d%.3f, b\u003d%.3f\u0027 % (a, b))"
    },
    {
      "cell_type": "markdown",
      "metadata": {
        "pycharm": {}
      },
      "source": [
        "** Expected Output: **  \n",
        "Coefficients: a\u003d27.741, b\u003d3.870"
      ]
    },
    {
      "cell_type": "markdown",
      "metadata": {
        "pycharm": {}
      },
      "source": [
        "Congratulations, you made it through the first tutorial of this course!  \n",
        "\n",
        "# Submitting your assignment\n",
        "\n",
        "Please rename your notebook and send it to machinelearning.dhc@gmail.com.  \n",
        "If you have a google account, you can also share your jupyter-file on Google Drive with this eMail address.\n",
        "\n",
        "Please rename the file to 1_LinRegTut_GROUP_lastname1_lastname2_lastname3.ipynb, and replace GROUP and \"lastnameX\" with your respective group and last names (+first name initial).\n",
        "\n",
        "e.g.:\n",
        "1_LinRegTut_LippertG_MontiR_FehrJ_DasP.ipynb\n",
        "\n",
        "As this is also the first time for us preparing this tutorial, you are welcome to give us feedback to help us improve this tutorial.  \n",
        "\n",
        "Thank you!  \n",
        "\n",
        "Jana \u0026 Remo"
      ]
    }
  ],
  "metadata": {
    "kernelspec": {
      "display_name": "Python 3",
      "language": "python",
      "name": "python3"
    },
    "language_info": {
      "codemirror_mode": {
        "name": "ipython",
        "version": 3
      },
      "file_extension": ".py",
      "mimetype": "text/x-python",
      "name": "python",
      "nbconvert_exporter": "python",
      "pygments_lexer": "ipython3",
      "version": "3.6.7"
    }
  },
  "nbformat": 4,
  "nbformat_minor": 2
}