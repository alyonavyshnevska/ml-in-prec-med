{
 "cells": [
  {
   "cell_type": "markdown",
   "metadata": {
    "pycharm": {}
   },
   "source": [
    "## The Diabetes Dataset\n",
    "\n",
    "In this exercise we will be working with the [Pima Indians Diabetes Database](https://www.kaggle.com/uciml/pima-indians-diabetes-database).\n",
    "\n",
    "The dataset consists of 8 medical predictor variables and one target variable, which were gathered in order to predict diabetes outcome in a female population of the native American Pima-tribe (USA). The dataset was part of a kaggle competition.\n",
    "\n",
    "The data is stored in a CSV-file. We use the pandas package to load the data. An introduction in to pandas can be found [here](https://pandas.pydata.org/pandas-docs/stable/getting_started/10min.html).\n"
   ]
  },
  {
   "cell_type": "code",
   "execution_count": 1,
   "metadata": {
    "pycharm": {
     "is_executing": false
    }
   },
   "outputs": [],
   "source": [
    "# for data analysis and manipulation\n",
    "import pandas as pd\n",
    "\n",
    "# for manipulation of graph and figures\n",
    "from matplotlib import pyplot as plt\n",
    "\n",
    "# access to square root function from mathematical library\n",
    "from math import sqrt\n",
    "\n",
    "#import assertion from numpy\n",
    "from numpy.testing import assert_almost_equal"
   ]
  },
  {
   "cell_type": "code",
   "execution_count": 2,
   "metadata": {
    "pycharm": {
     "is_executing": false
    }
   },
   "outputs": [],
   "source": [
    "# this loads the data into a pandas DataFrame, './diabetes.csv' specifies the directory for the datafile\n",
    "df = pd.read_csv('./diabetes.csv')"
   ]
  },
  {
   "cell_type": "code",
   "execution_count": 3,
   "metadata": {
    "pycharm": {
     "is_executing": false
    },
    "scrolled": true
   },
   "outputs": [
    {
     "data": {
      "text/html": [
       "<div>\n",
       "<style scoped>\n",
       "    .dataframe tbody tr th:only-of-type {\n",
       "        vertical-align: middle;\n",
       "    }\n",
       "\n",
       "    .dataframe tbody tr th {\n",
       "        vertical-align: top;\n",
       "    }\n",
       "\n",
       "    .dataframe thead th {\n",
       "        text-align: right;\n",
       "    }\n",
       "</style>\n",
       "<table border=\"1\" class=\"dataframe\">\n",
       "  <thead>\n",
       "    <tr style=\"text-align: right;\">\n",
       "      <th></th>\n",
       "      <th>Pregnancies</th>\n",
       "      <th>Glucose</th>\n",
       "      <th>BloodPressure</th>\n",
       "      <th>SkinThickness</th>\n",
       "      <th>Insulin</th>\n",
       "      <th>BMI</th>\n",
       "      <th>DiabetesPedigreeFunction</th>\n",
       "      <th>Age</th>\n",
       "      <th>Outcome</th>\n",
       "    </tr>\n",
       "  </thead>\n",
       "  <tbody>\n",
       "    <tr>\n",
       "      <th>0</th>\n",
       "      <td>6</td>\n",
       "      <td>148</td>\n",
       "      <td>72</td>\n",
       "      <td>35</td>\n",
       "      <td>0</td>\n",
       "      <td>33.6</td>\n",
       "      <td>0.627</td>\n",
       "      <td>50</td>\n",
       "      <td>1</td>\n",
       "    </tr>\n",
       "    <tr>\n",
       "      <th>1</th>\n",
       "      <td>1</td>\n",
       "      <td>85</td>\n",
       "      <td>66</td>\n",
       "      <td>29</td>\n",
       "      <td>0</td>\n",
       "      <td>26.6</td>\n",
       "      <td>0.351</td>\n",
       "      <td>31</td>\n",
       "      <td>0</td>\n",
       "    </tr>\n",
       "    <tr>\n",
       "      <th>2</th>\n",
       "      <td>8</td>\n",
       "      <td>183</td>\n",
       "      <td>64</td>\n",
       "      <td>0</td>\n",
       "      <td>0</td>\n",
       "      <td>23.3</td>\n",
       "      <td>0.672</td>\n",
       "      <td>32</td>\n",
       "      <td>1</td>\n",
       "    </tr>\n",
       "    <tr>\n",
       "      <th>3</th>\n",
       "      <td>1</td>\n",
       "      <td>89</td>\n",
       "      <td>66</td>\n",
       "      <td>23</td>\n",
       "      <td>94</td>\n",
       "      <td>28.1</td>\n",
       "      <td>0.167</td>\n",
       "      <td>21</td>\n",
       "      <td>0</td>\n",
       "    </tr>\n",
       "    <tr>\n",
       "      <th>4</th>\n",
       "      <td>0</td>\n",
       "      <td>137</td>\n",
       "      <td>40</td>\n",
       "      <td>35</td>\n",
       "      <td>168</td>\n",
       "      <td>43.1</td>\n",
       "      <td>2.288</td>\n",
       "      <td>33</td>\n",
       "      <td>1</td>\n",
       "    </tr>\n",
       "  </tbody>\n",
       "</table>\n",
       "</div>"
      ],
      "text/plain": [
       "   Pregnancies  Glucose  BloodPressure  SkinThickness  Insulin   BMI  \\\n",
       "0            6      148             72             35        0  33.6   \n",
       "1            1       85             66             29        0  26.6   \n",
       "2            8      183             64              0        0  23.3   \n",
       "3            1       89             66             23       94  28.1   \n",
       "4            0      137             40             35      168  43.1   \n",
       "\n",
       "   DiabetesPedigreeFunction  Age  Outcome  \n",
       "0                     0.627   50        1  \n",
       "1                     0.351   31        0  \n",
       "2                     0.672   32        1  \n",
       "3                     0.167   21        0  \n",
       "4                     2.288   33        1  "
      ]
     },
     "execution_count": 3,
     "metadata": {},
     "output_type": "execute_result"
    }
   ],
   "source": [
    "# this command shows the first rows of the table\n",
    "df.head()"
   ]
  },
  {
   "cell_type": "code",
   "execution_count": 4,
   "metadata": {
    "pycharm": {
     "is_executing": false
    }
   },
   "outputs": [],
   "source": [
    "# in a jupyter-notebook, you can display the documentation for any function/method/object by propending a question mark:\n",
    "?plt.scatter"
   ]
  },
  {
   "cell_type": "code",
   "execution_count": 5,
   "metadata": {
    "pycharm": {
     "is_executing": false
    }
   },
   "outputs": [
    {
     "data": {
      "image/png": "[encoded data removed]",
      "text/plain": [
       "<Figure size 432x288 with 1 Axes>"
      ]
     },
     "metadata": {
      "needs_background": "light"
     },
     "output_type": "display_data"
    }
   ],
   "source": [
    "# let's explore the dataset a little bit\n",
    "# for this exercise we are interested in the relationship between insulin and BMI.\n",
    "# For this we can produce a scatter-plot of BMI vs Insulin.\n",
    "# Try to explore other variables as well, using the plt.scatter function\n",
    "\n",
    "plt.scatter(df.BMI, df.Insulin)\n",
    "plt.xlabel('BMI')\n",
    "plt.ylabel('Insulin')\n",
    "plt.suptitle('BMI vs Insulin')\n",
    "plt.show()"
   ]
  },
  {
   "cell_type": "code",
   "execution_count": 6,
   "metadata": {
    "pycharm": {
     "is_executing": false
    }
   },
   "outputs": [
    {
     "data": {
      "image/png": "[encoded data removed]",
      "text/plain": [
       "<Figure size 432x288 with 1 Axes>"
      ]
     },
     "metadata": {
      "needs_background": "light"
     },
     "output_type": "display_data"
    }
   ],
   "source": [
    "# In the plot above, we can see that there are many datapoints which do not have a measurement for Insulin (Insulin == 0).\n",
    "# We decide that we want to exclude these values. \n",
    "\n",
    "# There are also missing values for BMI (BMI == 0), which we exclude as well.\n",
    "\n",
    "df = df[df.Insulin>0]\n",
    "df = df[df.BMI>0]\n",
    "plt.scatter(df.BMI, df.Insulin)\n",
    "plt.xlabel('BMI')\n",
    "plt.ylabel('Insulin')\n",
    "plt.suptitle('BMI vs Insulin')\n",
    "plt.show()"
   ]
  },
  {
   "cell_type": "markdown",
   "metadata": {
    "pycharm": {}
   },
   "source": [
    "# Step 1: Implementation using lists\n",
    "**Task 1.1:** Write functions to caluclate the mean and variance. Call those functions to calculate the mean and variance for BMI and Insulin.\n",
    "\n",
    "$$Mean, \\mu = \\frac{\\sum x_i}{n} $$\n",
    "\n",
    "$$Variance, \\sigma ^{2} = \\frac{\\sum (x - \\mu)^{2}}{n}$$"
   ]
  },
  {
   "cell_type": "code",
   "execution_count": 7,
   "metadata": {
    "pycharm": {
     "is_executing": false
    }
   },
   "outputs": [],
   "source": [
    "# Calculate the mean value of a python list of numbers\n",
    "# def is used to define our own functions\n",
    "\n",
    "def mean(values):\n",
    "    return sum(values)/len(values)\n",
    "\n",
    "# Calculate the variance of a list of numbers\n",
    "def variance(values):\n",
    "    values_mean = mean(values)\n",
    "    return sum([(x - values_mean)**2 for x in values]) / len(values)"
   ]
  },
  {
   "cell_type": "code",
   "execution_count": 8,
   "metadata": {
    "pycharm": {
     "is_executing": false
    }
   },
   "outputs": [],
   "source": [
    "# we store our variables in lists\n",
    "x = list(df.BMI)\n",
    "y = list(df.Insulin)"
   ]
  },
  {
   "cell_type": "code",
   "execution_count": 9,
   "metadata": {
    "pycharm": {
     "is_executing": false
    }
   },
   "outputs": [
    {
     "name": "stdout",
     "output_type": "stream",
     "text": [
      "x stats: mean=33.073 variance=49.210\n",
      "y stats: mean=155.718 variance=14096.406\n",
      "Good work!\n"
     ]
    }
   ],
   "source": [
    "# calculate mean and variance\n",
    "\n",
    "mean_x, mean_y = mean(x),mean(y)\n",
    "var_x, var_y = variance(x),variance(y)\n",
    "\n",
    "print(f\"x stats: mean={mean_x:.3f} variance={var_x:.3f}\")\n",
    "print(f\"y stats: mean={mean_y:.3f} variance={var_y:.3f}\")\n",
    "\n",
    "assert_almost_equal(mean_x, 33.073, 3, \"mean_X is incorrect\")\n",
    "assert_almost_equal(var_x, 49.210, 3, \"var_x is incorrect\")\n",
    "\n",
    "assert_almost_equal(mean_y, 155.718, 3, \"mean_X is incorrect\")\n",
    "assert_almost_equal(var_y, 14096.406, 3, \"var_x is incorrect\")\n",
    "print(\"Good work!\")\n"
   ]
  },
  {
   "cell_type": "markdown",
   "metadata": {
    "pycharm": {}
   },
   "source": [
    "**Expected output**:  \n",
    "x stats: mean = 33.073 variance = 49.210  \n",
    "y stats: mean = 155.718 variance = 14096.406"
   ]
  },
  {
   "cell_type": "markdown",
   "metadata": {
    "pycharm": {}
   },
   "source": [
    "Now we want to investigate if the BMI and Insulin are somehow associated. We do this by calculating the covariance:\n",
    "\n",
    "The covariance is a measure of association between x and y. It is positive if y increases with increasing x, negative if y decreases as x increases, and zero if there is no linear tendency for y to change with x. If x and y are independent, then σ(x,y) = 0, \n",
    "\n",
    "$$Cov (x,y) = \\frac{\\sum(x_{i}-\\bar{x})(y_{i}-\\bar{y})}{n} $$\n",
    "\n",
    "**Question 1.1:** Are two variables x, y always independent, if their covariance is 0? Write your answer in the field below by double-clicking."
   ]
  },
  {
   "cell_type": "markdown",
   "metadata": {
    "pycharm": {}
   },
   "source": [
    "No. \n",
    "\n",
    "For example, the covariance of $x$ and $sin(x)$ is 0, given $$x\\in\\R $$\n",
    "and $$0 \\leq x \\leq 2\\pi$$\n"
   ]
  },
  {
   "cell_type": "code",
   "execution_count": 10,
   "metadata": {
    "pycharm": {
     "is_executing": false
    },
    "scrolled": true
   },
   "outputs": [
    {
     "name": "stdout",
     "output_type": "stream",
     "text": [
      "Covariance: 189.938\n",
      "Good job!\n"
     ]
    }
   ],
   "source": [
    "# Calculate covariance between x and y\n",
    "def covariance(x, y):\n",
    "    covar = 0.0\n",
    "    mean_x = mean(x)\n",
    "    mean_y = mean(y)\n",
    "    for i,j in zip(x,y):\n",
    "        covar += (i-mean_x) * (j-mean_y)\n",
    "    return covar / float(len(x))\n",
    "\n",
    "covar = covariance(x, y)\n",
    "print('Covariance: %.3f' % (covar))\n",
    "assert_almost_equal(covar,189.938, 3, \"Covariance does not match!\")\n",
    "print(\"Good job!\")\n"
   ]
  },
  {
   "cell_type": "markdown",
   "metadata": {
    "pycharm": {}
   },
   "source": [
    "**Expected output**:  \n",
    "Covariance: 189.938"
   ]
  },
  {
   "cell_type": "code",
   "execution_count": 11,
   "metadata": {
    "pycharm": {
     "metadata": false,
     "name": "#%%\n"
    }
   },
   "outputs": [
    {
     "name": "stdout",
     "output_type": "stream",
     "text": [
      "Covariance between x and sin(x): 0.000029\n"
     ]
    }
   ],
   "source": [
    "import numpy as np\n",
    "\n",
    "test = np.arange(0,np.pi,0.0001)\n",
    "test_sine = np.sin(test)\n",
    "test_cov = covariance(test,test_sine)\n",
    "print('Covariance between x and sin(x): %.6f' % (test_cov))\n",
    "assert_almost_equal(test_cov,0, 3, \"Covariance does not match!\")"
   ]
  },
  {
   "cell_type": "markdown",
   "metadata": {
    "pycharm": {}
   },
   "source": [
    "Now we want to find coefficients for a line, that predicts our observations best.  \n",
    "\n",
    "To find the 'best fit' of coefficients for this predictor, we calculate the least-squares linear regression. The least-squares solution yields the values of $a$ and $b$ that minimize the mean squared residual. The formula is the following:\n",
    "\n",
    "$$a = \\bar y − b * \\bar x $$\n",
    "\n",
    "$$b = Cov(x, y) / Var(x)$$\n",
    "\n",
    "Thus, the least-squares estimators for the intercept and slope of a linear regression are simple functions of the observed means, variances, and covariances.   \n",
    " \n",
    "**Task 1.2:** Write a function that calculates the model parameters. Call this function to calculate the coefficients $a$ and $b$ for our linear model to predict the Insulin-level from a BMI observation."
   ]
  },
  {
   "cell_type": "code",
   "execution_count": 12,
   "metadata": {
    "pycharm": {
     "is_executing": false
    }
   },
   "outputs": [
    {
     "name": "stdout",
     "output_type": "stream",
     "text": [
      "Coefficients: a=28.067, b=3.860\n",
      "good job\n"
     ]
    }
   ],
   "source": [
    "# Calculate coefficients a and b\n",
    "def coefficients(x, y):\n",
    "    mean_x = mean(x)\n",
    "    mean_y = mean(y)\n",
    "    b = covariance(x,y) / variance(x)\n",
    "    a = mean_y - b * mean_x \n",
    "    return a,b\n",
    "\n",
    "a, b = coefficients(x,y)\n",
    "print('Coefficients: a=%.3f, b=%.3f' % (a, b))\n",
    "assert_almost_equal(a, 28.067, 3, \"coefficient a was not correct\")\n",
    "assert_almost_equal(b, 3.860, 3, \"coefficient b was not correct\")\n",
    "print(\"good job\")"
   ]
  },
  {
   "cell_type": "markdown",
   "metadata": {
    "pycharm": {}
   },
   "source": [
    "**Expected output:**  \n",
    "Coefficients: a=28.067, b=3.860"
   ]
  },
  {
   "cell_type": "markdown",
   "metadata": {
    "pycharm": {}
   },
   "source": [
    "Now that we predicited the coefficients for our 'best fit' linear regression model, we need to test it by predicting Insulin-levels from observing BMIs. In other words, if we have a measurement of the BMI, how well can we predict the Insulin level with our model?\n",
    "\n",
    "To do this, we take our linear regression function, insert our estimated coefficients, and calculate y for each observation x. \n",
    "\n",
    "$$\\hat y = a + b * x$$\n",
    "\n",
    "\n",
    "**Task 1.3:** Write a function that predicts y from x. Call this function with x and y.\n"
   ]
  },
  {
   "cell_type": "code",
   "execution_count": 13,
   "metadata": {
    "pycharm": {
     "is_executing": false
    }
   },
   "outputs": [],
   "source": [
    "# Make predictions\n",
    "def simple_linear_regression(x, y):\n",
    "    a, b = coefficients(x, y)\n",
    "    return [a+b*i for i in x]\n",
    "\n",
    "predictions = simple_linear_regression(x,y)"
   ]
  },
  {
   "cell_type": "markdown",
   "metadata": {
    "pycharm": {}
   },
   "source": [
    "To evaluate our predictions, we look at the difference between the Insulin level, that our model predicts and the true Insulin level and calculate the root mean squared error (rmse).\n",
    "\n",
    "$$ RMSE = \\sqrt{\\frac{\\sum (\\hat{y_{i}}-y_{i})^2}{n}} $$\n",
    "\n",
    "**Task 1.4:** Write a function that calculates the root mean squared  error, between the true and predicted value. "
   ]
  },
  {
   "cell_type": "code",
   "execution_count": 14,
   "metadata": {
    "pycharm": {
     "is_executing": false
    }
   },
   "outputs": [
    {
     "name": "stdout",
     "output_type": "stream",
     "text": [
      "RMSE: 115.600\n"
     ]
    }
   ],
   "source": [
    " \n",
    "# Calculate root mean squared error\n",
    "def rmse_metric(actual, predicted):\n",
    "    assert len(actual) == len(predicted), \"Actual and prediction must be the same length!\"\n",
    "    sum_error = sum([(p-a)**2 for p,a in zip(predicted,actual)])\n",
    "    mean_error = sum_error / len(actual)\n",
    "    return sqrt(mean_error)\n",
    "\n",
    "\n",
    "# Evaluate regression algorithm on training dataset\n",
    "def evaluate_algorithm(x, y, algorithm):\n",
    "    predicted = simple_linear_regression(x,y)\n",
    "    rmse = rmse_metric(y,predicted)\n",
    "    return rmse\n",
    "\n",
    "rmse = evaluate_algorithm(x, y, simple_linear_regression)\n",
    "print('RMSE: %.3f' % (rmse))\n",
    "assert_almost_equal(rmse, 115.600, 3, \"RMSE does not match!\")"
   ]
  },
  {
   "cell_type": "markdown",
   "metadata": {
    "pycharm": {}
   },
   "source": [
    "**Expected output: **   \n",
    "RMSE: 115.600"
   ]
  },
  {
   "cell_type": "markdown",
   "metadata": {
    "pycharm": {}
   },
   "source": [
    "Let's plot our results with the pyplot package from matplotlib:  "
   ]
  },
  {
   "cell_type": "code",
   "execution_count": 15,
   "metadata": {
    "pycharm": {
     "is_executing": false
    }
   },
   "outputs": [
    {
     "data": {
      "text/plain": [
       "[<matplotlib.lines.Line2D at 0x7efd52eb17f0>]"
      ]
     },
     "execution_count": 15,
     "metadata": {},
     "output_type": "execute_result"
    },
    {
     "data": {
      "image/png": "[encoded data removed]",
      "text/plain": [
       "<Figure size 432x288 with 1 Axes>"
      ]
     },
     "metadata": {
      "needs_background": "light"
     },
     "output_type": "display_data"
    }
   ],
   "source": [
    "plt.scatter(x, y, color='black')\n",
    "plt.xlabel('BMI')\n",
    "plt.ylabel('Insulin')\n",
    "plt.suptitle('RMSE')\n",
    "plt.plot(x, predictions, color='blue', linewidth=3)\n"
   ]
  },
  {
   "cell_type": "markdown",
   "metadata": {
    "pycharm": {}
   },
   "source": [
    "# Discussion:  \n",
    "1) What can you say about the association between BMI and Insulin?  \n",
    "2) Is BMI a good predictor for Insulin?  \n",
    "3) What would be your next steps to improve the prediction for Insulin?  \n",
    "\n",
    "**Task 1.5:** Write your answers in the cell below"
   ]
  },
  {
   "cell_type": "code",
   "execution_count": 16,
   "metadata": {
    "pycharm": {
     "is_executing": false,
     "name": "#%%\n"
    }
   },
   "outputs": [
    {
     "data": {
      "text/plain": [
       "0.22805015741657114"
      ]
     },
     "execution_count": 16,
     "metadata": {},
     "output_type": "execute_result"
    }
   ],
   "source": [
    "covariance(x,y)/(sqrt(var_x)*sqrt(var_y))\n"
   ]
  },
  {
   "cell_type": "code",
   "execution_count": 17,
   "metadata": {
    "pycharm": {
     "is_executing": false,
     "metadata": false,
     "name": "#%%\n"
    }
   },
   "outputs": [
    {
     "data": {
      "text/plain": [
       "0.05200687429772286"
      ]
     },
     "execution_count": 17,
     "metadata": {},
     "output_type": "execute_result"
    }
   ],
   "source": [
    "def sum_squared_totals(y):\n",
    "    mean_y=mean(y)\n",
    "    return sum([(i-mean_y)**2 for i in y])\n",
    "\n",
    "def sum_squared_error(x,y,algorithm):\n",
    "    mean_y=mean(y)\n",
    "    predicted = simple_linear_regression(x,y)\n",
    "    return sum([(p-mean_y)**2 for p in predicted])\n",
    "\n",
    "def r2(x,y,algorithm):\n",
    "    return sum_squared_error(x,y,algorithm)/sum_squared_totals(y)\n",
    "\n",
    "r2(x,y,simple_linear_regression)"
   ]
  },
  {
   "cell_type": "code",
   "execution_count": 36,
   "metadata": {
    "pycharm": {
     "is_executing": false
    },
    "scrolled": false
   },
   "outputs": [
    {
     "data": {
      "image/png": "[encoded data removed]",
      "text/plain": [
       "<Figure size 432x288 with 1 Axes>"
      ]
     },
     "metadata": {
      "needs_background": "light"
     },
     "output_type": "display_data"
    }
   ],
   "source": [
    "plt.scatter(predictions, y)\n",
    "plt.title(\"Predicted vs Actual\")\n",
    "plt.xlabel(\"Predicted Insulin\")\n",
    "plt.ylabel(\"Actual Insulin\")\n",
    "plt.plot((0,275), (0,275), ls=\"--\", c=\".3\")\n",
    "plt.show()"
   ]
  },
  {
   "cell_type": "code",
   "execution_count": 19,
   "metadata": {
    "pycharm": {}
   },
   "outputs": [
    {
     "data": {
      "image/png": "[encoded data removed]",
      "text/plain": [
       "<Figure size 432x288 with 1 Axes>"
      ]
     },
     "metadata": {
      "needs_background": "light"
     },
     "output_type": "display_data"
    }
   ],
   "source": [
    "#Residuals Plot\n",
    "x = list(df.BMI)\n",
    "y = list(df.Insulin)\n",
    "predictions = simple_linear_regression(x, y)\n",
    "\n",
    "fig, ax = plt.subplots()\n",
    "ax.plot(x,predictions)\n",
    "ax.scatter(x, y)\n",
    "ax.vlines(x,y,predictions)\n",
    "\n",
    "ax.set_title(\"Residuals\")\n",
    "ax.set_ylabel(\"Insulin\")\n",
    "ax.set_xlabel(\"BMI\")\n",
    "\n",
    "plt.show()"
   ]
  },
  {
   "cell_type": "markdown",
   "metadata": {
    "pycharm": {
     "metadata": false,
     "name": "#%% md\n"
    }
   },
   "source": [
    "1. \n",
    "We can calculate the correlation coeffient using the following formula:\n",
    "\n",
    "````python\n",
    "covariance(x,y)/(sqrt(var_x)*sqrt(var_y))\n",
    "````\n",
    "The result shows, that the correlation between bmi and insulin is `0.22` and well below `0.8`.\n",
    "This leads to the conclusion that they are not associated.\n",
    "2. Therefore BMI is a bad indicator or predictor for Insulin.\n",
    "3. Go back to the original dataset and try other features or combinations of them. We could also try to find a non-linear relationship between BMI and Insulin.\n",
    "\n"
   ]
  },
  {
   "cell_type": "markdown",
   "metadata": {
    "pycharm": {}
   },
   "source": [
    "# Step 2: Implementation using numpy\n",
    "\n",
    "Working with lists required us to write a lot of code. Python can save you from all this work, if you are familiar with the numpy package.\n",
    "If you are not familiar with numpy yet. We recommend to browse through the documentation page at https://www.numpy.org and also work through the provided tutorial there.  "
   ]
  },
  {
   "cell_type": "code",
   "execution_count": 20,
   "metadata": {
    "pycharm": {
     "is_executing": false
    }
   },
   "outputs": [],
   "source": [
    "# First we need to import the numpy package\n",
    "import numpy as np\n",
    "\n",
    "# The 'as np' notion is optional, but it is helpful because we can use the np abbreviation \n",
    "# when we call functions from the numpy module. "
   ]
  },
  {
   "cell_type": "markdown",
   "metadata": {
    "pycharm": {}
   },
   "source": [
    "**Task 2.1:**  \n",
    "1) Define x and y. This time, we do not have to convert them into lists. They can keep it as arrays.  \n",
    "2) Calculate the mean and variance for x and y, using numpy functions. "
   ]
  },
  {
   "cell_type": "code",
   "execution_count": 21,
   "metadata": {
    "pycharm": {
     "is_executing": false
    }
   },
   "outputs": [
    {
     "name": "stdout",
     "output_type": "stream",
     "text": [
      "x stats: mean=33.073 variance=49.210\n",
      "y stats: mean=155.718 variance=14096.406\n",
      "correct\n"
     ]
    }
   ],
   "source": [
    "# calculate mean and variance usind pandas directly\n",
    "mean_x = df.BMI.mean()\n",
    "mean_y = df.Insulin.mean()\n",
    "\n",
    "#pandas uses empirical variance (`ddof=0`) by default. \n",
    "#Set degrees of freedom to 0 to trigger statisticians. ;)\n",
    "var_x = df.BMI.var(ddof=0)\n",
    "\n",
    "var_y = df.Insulin.var(ddof=0)\n",
    "\n",
    "print('x stats: mean=%.3f variance=%.3f' % (mean_x, var_x))\n",
    "print('y stats: mean=%.3f variance=%.3f' % (mean_y, var_y))\n",
    "\n",
    "assert_almost_equal(mean_x, 33.073, 3, \"mean_X is incorrect\")\n",
    "assert_almost_equal(var_x, 49.210, 3, \"var_x is incorrect\")\n",
    "\n",
    "assert_almost_equal(mean_y, 155.718, 3, \"mean_X is incorrect\")\n",
    "assert_almost_equal(var_y, 14096.406, 3, \"var_x is incorrect\")\n",
    "print(\"correct\")"
   ]
  },
  {
   "cell_type": "code",
   "execution_count": 22,
   "metadata": {
    "pycharm": {}
   },
   "outputs": [
    {
     "name": "stdout",
     "output_type": "stream",
     "text": [
      "x stats: mean=33.073 variance=49.210\n",
      "y stats: mean=155.718 variance=14096.406\n",
      "correct\n"
     ]
    }
   ],
   "source": [
    "# calculate mean and variance usind numpy\n",
    "x = np.array(df.BMI)\n",
    "y = np.array(df.Insulin)\n",
    "\n",
    "mean_x = np.mean(x)\n",
    "mean_y = np.mean(y)\n",
    "\n",
    "var_x = np.var(df.BMI)\n",
    "\n",
    "var_y = np.var(df.Insulin)\n",
    "\n",
    "print('x stats: mean=%.3f variance=%.3f' % (mean_x, var_x))\n",
    "print('y stats: mean=%.3f variance=%.3f' % (mean_y, var_y))\n",
    "\n",
    "assert_almost_equal(mean_x, 33.073, 3, \"mean_X is incorrect\")\n",
    "assert_almost_equal(var_x, 49.210, 3, \"var_x is incorrect\")\n",
    "\n",
    "assert_almost_equal(mean_y, 155.718, 3, \"mean_X is incorrect\")\n",
    "assert_almost_equal(var_y, 14096.406, 3, \"var_x is incorrect\")\n",
    "print(\"correct\")"
   ]
  },
  {
   "cell_type": "markdown",
   "metadata": {
    "pycharm": {}
   },
   "source": [
    "**Expected output:  **  \n",
    "x stats: mean=33.073 variance=49.210  \n",
    "y stats: mean=155.718 variance=14096.406"
   ]
  },
  {
   "cell_type": "markdown",
   "metadata": {
    "pycharm": {}
   },
   "source": [
    "**Task 2.2:** Now rewrite the covariance() function and call the numpy-covariance function within. The numpy-covariance function returns a covariance matrix (2x2) with 4 values. \n",
    "\n",
    "**Question 2.1:** Which values does the covariance matrix represent? Which ones are the actual covariance?\n",
    "What are the other values? Write your anser in the cell below."
   ]
  },
  {
   "cell_type": "markdown",
   "metadata": {
    "pycharm": {
     "name": "#%% md\n"
    }
   },
   "source": [
    "The covariance matrix of $x$ and $y$ has the following form:\n",
    "\n",
    "$\\newcommand{\\Var}{\\mathrm{Var}}$\n",
    "$\\newcommand{\\Cov}{\\mathrm{Cov}}$\n",
    "\\begin{matrix} \n",
    "\\Cov(x,x) = \\Var(x) & \\Cov(x,y) \\\\\n",
    "\\Cov(y,x) & \\Cov(y,y) = \\Var(y)\n",
    "\\end{matrix}\n",
    "\n",
    "The values on the main diagonal of the matrix represent the variances of $x$ and $y$.\n",
    "The other values effectively represent the variance of $x$ and $y$ respectively. \n",
    "The covariance matrix, given rational inputs, is symmetrical. \n",
    "Since $$\\Cov(y,x) = \\Cov(x,y)$$ we can get the actual covariance of $x$ and $y$ with `np.cov(x,y)[1,0]` or `np.cov(x,y)[0,1]`.\n"
   ]
  },
  {
   "cell_type": "markdown",
   "metadata": {
    "pycharm": {}
   },
   "source": [
    "Now, calculate the covariance, using the numpy function cov(). The function returns a covariance matrix, and you need to index the covariance value within the matrix. \n",
    "So, for the covariance() function, index one covariance value and return it. "
   ]
  },
  {
   "cell_type": "code",
   "execution_count": 23,
   "metadata": {
    "pycharm": {
     "is_executing": false
    }
   },
   "outputs": [
    {
     "name": "stdout",
     "output_type": "stream",
     "text": [
      "190.42283065898113\n",
      "good\n"
     ]
    }
   ],
   "source": [
    "# calculate covariance\n",
    "def covariance(x,y):\n",
    "    cov_m = np.cov(x,y)\n",
    "    covar = cov_m[1,0]\n",
    "    covar2 = cov_m[0,1]\n",
    "    #might break due to float or not, dunno\n",
    "    assert covar == covar2, \"covariances do not match\"\n",
    "    return covar\n",
    "\n",
    "cov = covariance(x,y)\n",
    "print(cov)\n",
    "#expected output is either rounded, or we got some floating point inaccuracy ; either way just use 13 digits after the point\n",
    "assert_almost_equal(cov,190.42283065898116,13,\"cov does not match\")\n",
    "print(\"good\")"
   ]
  },
  {
   "cell_type": "markdown",
   "metadata": {
    "pycharm": {}
   },
   "source": [
    "** Expected output: **  \n",
    "190.42283065898116"
   ]
  },
  {
   "cell_type": "markdown",
   "metadata": {
    "pycharm": {}
   },
   "source": [
    "**Task 2.3:** Now, write a coefficients() function to calculate the coefficients b0 and b1 by using numpy functions. \n",
    "Return a list of b0 and b1. Call the function."
   ]
  },
  {
   "cell_type": "code",
   "execution_count": 24,
   "metadata": {
    "pycharm": {}
   },
   "outputs": [
    {
     "name": "stdout",
     "output_type": "stream",
     "text": [
      "Coefficients: a=27.741, b=3.870\n",
      "Super\n"
     ]
    }
   ],
   "source": [
    "# Calculate coefficients (using polyfit)\n",
    "def coefficients(x,y):\n",
    "    x_mean, y_mean = np.mean(x), np.mean(y)\n",
    "    b = np.cov(x,y)[1][0] / np.var(x)\n",
    "    a = np.mean(y) -b * np.mean(x)\n",
    "    fit = np.polyfit(x,y,1)#use numpy\n",
    "    return a,b\n",
    "\n",
    "# calculate coefficients\n",
    "a, b = coefficients(x,y)\n",
    "print('Coefficients: a=%.3f, b=%.3f' % (a, b))\n",
    "assert_almost_equal(a, 27.741, 3, \"a does not match\")\n",
    "assert_almost_equal(b, 3.870, 3, \"a does not match\")\n",
    "print(\"Super\")"
   ]
  },
  {
   "cell_type": "markdown",
   "metadata": {
    "pycharm": {}
   },
   "source": [
    "** Expected Output: **  \n",
    "Coefficients: a=27.741, b=3.870"
   ]
  },
  {
   "cell_type": "code",
   "execution_count": 25,
   "metadata": {
    "pycharm": {
     "is_executing": false
    }
   },
   "outputs": [
    {
     "name": "stdout",
     "output_type": "stream",
     "text": [
      "Coefficients using np.polyfit: a=28.067, b=3.860\n"
     ]
    }
   ],
   "source": [
    "# Calculate coefficients (using polyfit)\n",
    "def coefficients(x,y):\n",
    "    fit = np.polyfit(x,y,1)#use numpy\n",
    "    return [fit[1], fit[0]]\n",
    "\n",
    "# calculate coefficients\n",
    "# The values differ slightly from the expected output\n",
    "a, b = coefficients(x,y)\n",
    "print('Coefficients using np.polyfit: a=%.3f, b=%.3f' % (a, b))"
   ]
  },
  {
   "cell_type": "markdown",
   "metadata": {
    "pycharm": {}
   },
   "source": [
    "Congratulations, you made it through the first tutorial of this course!  \n",
    "\n",
    "# Submitting your assignment\n",
    "\n",
    "Please rename your notebook and send it to machinelearning.dhc@gmail.com.  \n",
    "If you have a google account, you can also share your jupyter-file on Google Drive with this eMail address.\n",
    "\n",
    "Please rename the file to 1_LinRegTut_GROUP_lastname1_lastname2_lastname3.ipynb, and replace GROUP and \"lastnameX\" with your respective group and last names (+first name initial).\n",
    "\n",
    "e.g.:\n",
    "1_LinRegTut_LippertG_MontiR_FehrJ_DasP.ipynb\n",
    "\n",
    "As this is also the first time for us preparing this tutorial, you are welcome to give us feedback to help us improve this tutorial.  \n",
    "\n",
    "Thank you!  \n",
    "\n",
    "Jana & Remo"
   ]
  }
 ],
 "metadata": {
  "kernelspec": {
   "display_name": "Python 3",
   "language": "python",
   "name": "python3"
  },
  "language_info": {
   "codemirror_mode": {
    "name": "ipython",
    "version": 3
   },
   "file_extension": ".py",
   "mimetype": "text/x-python",
   "name": "python",
   "nbconvert_exporter": "python",
   "pygments_lexer": "ipython3",
   "version": "3.6.7"
  },
  "stem_cell": {
   "cell_type": "raw",
   "metadata": {
    "pycharm": {
     "metadata": false
    }
   },
   "source": "git#%% md\n# Intro  \nWelcome to your first programming exercise of this course.\nWe will investigate a diabetes-dataset and see if certain variables\nare associated with each other. In this tutorial, we want to test for\ntrue associations with linear regression.  \n\nDepending on the causal connections between two variables, $x$ and $y$, their true relationship may be linear or nonlinear. However, regardless of the true pattern of association, a linear model can always serve as a first approximation. In this case, the analysis is particularly simple,  \n$$y = \\alpha + \\beta x + e$$ \nwhere $\\alpha$ is the y-intercept, $\\beta$ is the slope of the line (also known as the regression\ncoefficient), and e is the residual error. Letting  \n$$\\hat y = \\alpha + \\beta x$$\nbe the value of $y$ predicted by the model, then the residual error is the deviation between the observed and predicted y value, i.e., $e =  y - \\hat y$. When information on $x$ is used to predict $y$, $x$ is referred to as the predictor or independent variable and $y$ as the response or dependent variable.\n\nThe objective of linear regression analysis is to estimate the model parameters, $\\alpha$ and $\\beta$, that give the “best fit” for the joint distribution of $x$ and $y$. The true parameters $\\alpha$ and $\\beta$ are only obtainable if the entire population is sampled. With an incomplete sample, $\\alpha$ and $\\beta$ are approximated by sample estimators, denoted as $a$ and $b$. In real-world applications, there is often only a weak linear relationship between two variables which makes it difficult to say anything more precise. In order to infer the parameters of our model, an objective definition of “best fit” is required. The mathematical method of least-squares linear regression provides one such best-fit solution.\n\nFor this exercise you will need the pandas, matplotlib and numpy python packages.\n\nWe provide template code, which you will have to complete. The parts you will have to change are marked with `#your_code`\n\nThe ideas conveyed in this exercise, especially the connection between the covariance of two variables $Cov(x,y)$ and the regression coefficient $b$ are explained in more detail [here](http://nitro.biosci.arizona.edu/courses/EEB581-2006/handouts/bivdistrib.pdf)."
  }
 },
 "nbformat": 4,
 "nbformat_minor": 2
}
